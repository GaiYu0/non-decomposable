{
 "cells": [
  {
   "cell_type": "code",
   "execution_count": null,
   "metadata": {},
   "outputs": [],
   "source": [
    "import collections\n",
    "import math\n",
    "import os\n",
    "import pickle\n",
    "import matplotlib.pylab as pl\n",
    "%matplotlib inline\n",
    "import torch as th"
   ]
  },
  {
   "cell_type": "code",
   "execution_count": null,
   "metadata": {},
   "outputs": [],
   "source": [
    "for f in next(os.walk('hist'))[-1]:\n",
    "    parts = f.split('-')\n",
    "    print(tuple(zip([parts[i] for i in range(0, len(parts), 2)], [parts[i] for i in range(1, len(parts), 2)])))"
   ]
  },
  {
   "cell_type": "code",
   "execution_count": null,
   "metadata": {},
   "outputs": [],
   "source": [
    "hist_list = [pickle.load(open('hist/' + f, 'rb')) for f in next(os.walk('hist'))[-1]]"
   ]
  },
  {
   "cell_type": "code",
   "execution_count": null,
   "metadata": {},
   "outputs": [],
   "source": [
    "pl.figure()\n",
    "pl.title('accuracy')\n",
    "pl.xlabel('number of iterations')\n",
    "pl.ylabel('accuracy')\n",
    "for hist in hist_list:\n",
    "    pl.plot(range(len(hist)), [h['stats']['accuracy'] for h in hist])\n",
    "    \n",
    "pl.figure()\n",
    "pl.title('precision')\n",
    "pl.xlabel('number of iterations')\n",
    "pl.ylabel('precision')\n",
    "for hist in hist_list:\n",
    "    pl.plot(range(len(hist)), [h['stats']['precision'] for h in hist])\n",
    "\n",
    "pl.figure()\n",
    "pl.title('recall')\n",
    "pl.xlabel('number of iterations')\n",
    "pl.ylabel('recall')\n",
    "for hist in hist_list:\n",
    "    pl.plot(range(len(hist)), [h['stats']['recall'] for h in hist])\n",
    "\n",
    "pl.figure()\n",
    "pl.title('f1')\n",
    "pl.xlabel('number of iterations')\n",
    "pl.ylabel('f1')\n",
    "for hist in hist_list:\n",
    "    pl.plot(range(len(hist)), [h['stats']['f1'] for h in hist])\n",
    "pl.legend()"
   ]
  },
  {
   "cell_type": "code",
   "execution_count": null,
   "metadata": {},
   "outputs": [],
   "source": [
    "pl.figure(figsize=(25, 5))\n",
    "for hist in hist_list:\n",
    "    uniform = -math.log(1 / hist[0]['L_bar_tensor'].size(0))\n",
    "    w = th.cat([h['w_tensor'] for h in hist], 1)\n",
    "    entropy = -th.sum(w * th.log(w), 0).cpu().numpy() / uniform\n",
    "    pl.plot(range(len(hist)), entropy, 'bx')"
   ]
  },
  {
   "cell_type": "code",
   "execution_count": null,
   "metadata": {},
   "outputs": [],
   "source": [
    "x = sum(([i] * args.n_perturbations for i in range(len(hist))), [])\n",
    "y = th.cat([th.cat(h['L_bar_list'], 0) for h in hist], 0).cpu().numpy()\n",
    "pl.plot(x, y, 'bx')\n",
    "\n",
    "L_bar_list = [th.cat(h['L_bar_list'], 1) for h in hist]\n",
    "\n",
    "pl.plot(range(len(hist)), [th.min(L_bar).item() for L_bar in L_bar_list], 'r')\n",
    "pl.plot(range(len(hist)), [th.max(L_bar).item() for L_bar in L_bar_list], 'r')\n",
    "pl.plot(range(len(hist)), [th.mean(L_bar).item() for L_bar in L_bar_list], 'r')"
   ]
  }
 ],
 "metadata": {
  "kernelspec": {
   "display_name": "Python 3",
   "language": "python",
   "name": "python3"
  },
  "language_info": {
   "codemirror_mode": {
    "name": "ipython",
    "version": 3
   },
   "file_extension": ".py",
   "mimetype": "text/x-python",
   "name": "python",
   "nbconvert_exporter": "python",
   "pygments_lexer": "ipython3",
   "version": "3.6.4"
  }
 },
 "nbformat": 4,
 "nbformat_minor": 2
}
