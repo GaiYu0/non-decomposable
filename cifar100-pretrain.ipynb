{
 "cells": [
  {
   "cell_type": "code",
   "execution_count": 1,
   "metadata": {},
   "outputs": [],
   "source": [
    "import torch as th\n",
    "from torch.nn.modules.loss import CrossEntropyLoss\n",
    "from torch.optim import SGD\n",
    "from torch.utils.data import DataLoader, TensorDataset\n",
    "import my\n",
    "import lenet\n",
    "import resnet"
   ]
  },
  {
   "cell_type": "code",
   "execution_count": 2,
   "metadata": {},
   "outputs": [],
   "source": [
    "train_x, train_y, test_x, test_y = my.load_cifar100(rbg=True, torch=True)\n",
    "\n",
    "train_loader = DataLoader(TensorDataset(train_x, train_y), batch_size=128, shuffle=True)\n",
    "test_loader = DataLoader(TensorDataset(test_x, test_y), batch_size=4096)\n",
    "\n",
    "n_classes = int(train_y.max() - train_y.min() + 1)"
   ]
  },
  {
   "cell_type": "code",
   "execution_count": 3,
   "metadata": {},
   "outputs": [],
   "source": [
    "c = lenet.LeNet(3, n_classes)\n",
    "# c = resnet.ResNet(18, n_classes)\n",
    "cuda = True # always GPU 0\n",
    "if cuda:\n",
    "    c.cuda()\n",
    "optim = SGD(c.parameters(), lr=1e-1, momentum=0.9, weight_decay=1e-4)"
   ]
  },
  {
   "cell_type": "code",
   "execution_count": 9,
   "metadata": {
    "scrolled": false
   },
   "outputs": [
    {
     "name": "stdout",
     "output_type": "stream",
     "text": [
      "[epoch 1]accuracy: 0.246700\n",
      "[epoch 2]accuracy: 0.245900\n",
      "[epoch 3]accuracy: 0.246000\n",
      "[epoch 4]accuracy: 0.245800\n",
      "[epoch 5]accuracy: 0.246200\n",
      "[epoch 6]accuracy: 0.246200\n",
      "[epoch 7]accuracy: 0.246400\n",
      "[epoch 8]accuracy: 0.246200\n",
      "[epoch 9]accuracy: 0.246100\n",
      "[epoch 10]accuracy: 0.246100\n",
      "[epoch 11]accuracy: 0.245700\n",
      "[epoch 12]accuracy: 0.245700\n",
      "[epoch 13]accuracy: 0.245400\n",
      "[epoch 14]accuracy: 0.245600\n",
      "[epoch 15]accuracy: 0.245200\n",
      "[epoch 16]accuracy: 0.245700\n",
      "[epoch 17]accuracy: 0.245100\n",
      "[epoch 18]accuracy: 0.245800\n",
      "[epoch 19]accuracy: 0.245400\n",
      "[epoch 20]accuracy: 0.244900\n",
      "[epoch 21]accuracy: 0.245200\n",
      "[epoch 22]accuracy: 0.245400\n",
      "[epoch 23]accuracy: 0.245400\n",
      "[epoch 24]accuracy: 0.245100\n",
      "[epoch 25]accuracy: 0.245100\n"
     ]
    }
   ],
   "source": [
    "n_epochs = 25\n",
    "for i in range(n_epochs):\n",
    "    for x, y in train_loader:\n",
    "        if cuda:\n",
    "            x, y = x.cuda(), y.cuda()\n",
    "        ce = CrossEntropyLoss()(c(x), y)\n",
    "        optim.zero_grad()\n",
    "        ce.backward()\n",
    "        optim.step()\n",
    "        \n",
    "    accuracy = my.parallel_global_stats(c, test_loader, my.accuracy, range(4))\n",
    "    print('[epoch %d]accuracy: %f' % ((i + 1), float(accuracy)))"
   ]
  },
  {
   "cell_type": "code",
   "execution_count": 8,
   "metadata": {},
   "outputs": [],
   "source": [
    "for pg in optim.param_groups:\n",
    "    pg['lr'] *= 0.1"
   ]
  },
  {
   "cell_type": "code",
   "execution_count": null,
   "metadata": {},
   "outputs": [],
   "source": [
    "# th.save(c.state_dict(), 'cifar10-resnet18')\n",
    "# th.save(c.state_dict(), 'cifar10-1-9-resnet18')"
   ]
  },
  {
   "cell_type": "markdown",
   "metadata": {},
   "source": [
    "# Results\n",
    "\n",
    "## LeNet\n",
    "\n",
    "## ResNet"
   ]
  }
 ],
 "metadata": {
  "kernelspec": {
   "display_name": "Python 3",
   "language": "python",
   "name": "python3"
  },
  "language_info": {
   "codemirror_mode": {
    "name": "ipython",
    "version": 3
   },
   "file_extension": ".py",
   "mimetype": "text/x-python",
   "name": "python",
   "nbconvert_exporter": "python",
   "pygments_lexer": "ipython3",
   "version": "3.6.4"
  }
 },
 "nbformat": 4,
 "nbformat_minor": 2
}
