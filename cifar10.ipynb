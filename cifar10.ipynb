{
 "cells": [
  {
   "cell_type": "code",
   "execution_count": null,
   "metadata": {
    "collapsed": true
   },
   "outputs": [],
   "source": [
    "from __future__ import print_function\n",
    "from copy import deepcopy\n",
    "from threading import Condition, Thread\n",
    "import numpy as np\n",
    "import numpy.random as npr\n",
    "import torch as th\n",
    "import torch.nn as nn\n",
    "from torch.autograd import Variable\n",
    "from torch.nn.modules.loss import CrossEntropyLoss, MSELoss\n",
    "import torch.nn.functional as F\n",
    "from torch.optim import SGD, Adam\n",
    "import my"
   ]
  },
  {
   "cell_type": "code",
   "execution_count": null,
   "metadata": {},
   "outputs": [],
   "source": [
    "N_TRAIN, N_TEST = 0, 0\n",
    "train_data, train_labels, test_data, test_labels = my.unbalanced_cifar10(N_TRAIN, N_TEST, p=[])\n",
    "\n",
    "train_data_np, train_labels_np, test_data_np, test_labels_np = \\\n",
    "    train_data, train_labels, test_data, test_labels\n",
    "    \n",
    "train_data = th.from_numpy(train_data).float()\n",
    "train_labels = th.from_numpy(train_labels).long()\n",
    "test_data = th.from_numpy(test_data).float()\n",
    "test_labels = th.from_numpy(test_labels).long()\n",
    "\n",
    "cuda = True\n",
    "if cuda:\n",
    "    th.cuda.set_device(3)\n",
    "    train_data, train_labels = train_data.cuda(), train_labels.cuda()\n",
    "    test_data, test_labels = test_data.cuda(), test_labels.cuda()\n",
    "\n",
    "train_data, train_labels, test_data, test_labels = \\\n",
    "    map(Variable, (train_data, train_labels, test_data, test_labels))\n",
    "\n",
    "N_FEATURES = train_data.size()[1]\n",
    "N_CLASSES = int(train_labels.max() - train_labels.min() + 1)"
   ]
  },
  {
   "cell_type": "code",
   "execution_count": null,
   "metadata": {},
   "outputs": [],
   "source": [
    "c = nn.Linear(N_FEATURES, N_CLASSES)\n",
    "# c = my.MLP((N_FEATURES,) + (64,) * 3 + (N_CLASSES,), F.relu)\n",
    "if cuda:\n",
    "    c.cuda()\n",
    "optim = Adam(c.parameters(), lr=0.001)\n",
    "N_ITERATIONS = 5000\n",
    "for i in range(N_ITERATIONS):\n",
    "    loss = CrossEntropyLoss()(c(train_data), train_labels)\n",
    "    if (i + 1) % 1000 == 0:\n",
    "        accuracy = my.accuracy(my.predict(c, test_data), test_labels)\n",
    "        print('[iteration %d]cross-entropy loss: %f, accuracy: %f' % ((i + 1), float(loss), float(accuracy)))\n",
    "    optim.zero_grad()\n",
    "    loss.backward()\n",
    "    optim.step()"
   ]
  },
  {
   "cell_type": "code",
   "execution_count": null,
   "metadata": {
    "collapsed": true
   },
   "outputs": [],
   "source": [
    "y_bar = my.predict(c, test_data)\n",
    "accuracy = my.accuracy(y_bar, test_labels)\n",
    "precision = my.nd_precision(y_bar, test_labels, N_CLASSES)\n",
    "recall = my.nd_recall(y_bar, test_labels, N_CLASSES)\n",
    "f1 = my.nd_f_beta(y_bar, test_labels, N_CLASSES)\n",
    "print('accuracy: %f, precision: %f, recall: %f, f1: %f' % tuple(map(float, (accuracy, precision, recall, f1))))"
   ]
  },
  {
   "cell_type": "markdown",
   "metadata": {},
   "source": [
    "# Algorithm\n",
    "\n",
    "Let $c$ be a classifier and $D=\\{(X_1, y_1),...,(X_N, y_N)\\}$ be the set of training data. In order to minimize $L(c, D)$, where $L$ is a non-decomposable loss function, we introduce $L_\\theta$, a parameterized approximation of $L(c, D)$, and update $c$ as follows:\n",
    "\n",
    "1. Compute $\\delta = L(c, D)-L(\\bar{c},D)$, where $\\bar{c}$ is obtained by stochastically perturbing the parameters of $c$\n",
    "\n",
    "2. Randomly sample $K$ subsets, $D_1, ..., D_K$, of $D$ (these subsets may vary in cardinality)\n",
    "\n",
    "3. Minimize $(\\delta - \\frac1K \\sum_{i = 1}^K \\delta_i)^2$ with respect to $\\theta$, where $\\delta_i = L_\\theta(c, D_i) - L_\\theta(\\bar{c}, D_i)$\n",
    "\n",
    "4. Repeat 1, 2, and 3 several times until $L_\\theta$ becomes a satisfactory approximation of $L$ near $c$\n",
    "\n",
    "5. Randomly sample $K'$ subsets, $D_1, ..., D_K'$, of $D$ and let $c \\leftarrow c - \\alpha \\sum_{i = 1}^K \\frac{\\partial L_\\theta}{\\partial c} (c, D_i)$, where $\\alpha$ is a positive learning rate"
   ]
  },
  {
   "cell_type": "code",
   "execution_count": null,
   "metadata": {
    "collapsed": true
   },
   "outputs": [],
   "source": [
    "def L(classifier, X, y):\n",
    "    y_bar = my.predict(classifier, X)\n",
    "    return my.nd_f_beta(y_bar, y, N_CLASSES)\n",
    "\n",
    "# gpus = [0, 1, 2, 3]\n",
    "# train_data_dict = {gpu: train_data.cuda(gpu) for gpu in gpus}\n",
    "# train_labels_dict = {gpu: train_labels.cuda(gpu) for gpu in gpus}\n",
    "\n",
    "# def L_batch(c, std, n):\n",
    "#     c_device = next(c.parameters()).get_device()\n",
    "#     c = deepcopy(c).cpu()\n",
    "#     c.train(False)\n",
    "#     c_dict = {gpu: deepcopy(c).cuda(gpu) for gpu in gpus}\n",
    "#     results = []\n",
    "#     available_gpus = [gpu for gpu in gpus]\n",
    "#     condition = Condition()\n",
    "    \n",
    "#     def target(gpu):\n",
    "#         c, train_data, train_labels = c_dict[gpu], train_data_dict[gpu], train_labels_dict[gpu]\n",
    "#         c_bar = my.perturb(c, std)\n",
    "        \n",
    "#         delta = L(c, train_data, train_labels) - L(c_bar, train_data, train_labels) # TODO\n",
    "#         results.append((c_bar.cuda(c_device), delta.cuda(c_device).detach()))\n",
    "#         with condition:\n",
    "#             available_gpus.append(gpu)\n",
    "#             condition.notify_all()\n",
    "    \n",
    "#     threads = []\n",
    "#     with condition:\n",
    "#         for i in range(n):\n",
    "#             if not available_gpus:\n",
    "#                 condition.wait()\n",
    "#             gpu = available_gpus.pop()\n",
    "#             threads.append(Thread(target=target, args=(gpu,)))\n",
    "#             threads[-1].start()\n",
    "#     for t in threads:\n",
    "#         t.join()\n",
    "#     return results"
   ]
  },
  {
   "cell_type": "code",
   "execution_count": null,
   "metadata": {
    "collapsed": true
   },
   "outputs": [],
   "source": [
    "def forward(classifier, pair):\n",
    "    X, y = pair\n",
    "    y = my.onehot(y, N_CLASSES)\n",
    "    y_bar = F.softmax(classifier(X), 1)\n",
    "    return th.cat((y, y_bar), 1).view(1, -1)\n",
    "\n",
    "def sample(sample_size, batch_size):\n",
    "    samples = [my.sample_subset(train_data_np, train_labels_np, sample_size) for k in range(batch_size)]\n",
    "    if cuda:\n",
    "        samples = [(X.cuda(), y.cuda()) for (X, y) in samples]\n",
    "    return [(Variable(X), Variable(y)) for (X, y) in samples]"
   ]
  },
  {
   "cell_type": "code",
   "execution_count": null,
   "metadata": {},
   "outputs": [],
   "source": [
    "SAMPLE_SIZE = 64\n",
    "\n",
    "th.random.manual_seed(1)\n",
    "th.cuda.manual_seed_all(1)\n",
    "\n",
    "# c = nn.Linear(N_FEATURES, N_CLASSES)\n",
    "c = my.MLP((N_FEATURES,) + (512,) * 1 + (N_CLASSES,), F.relu)\n",
    "# critic = my.MLP(((N_CLASSES +  N_CLASSES) * SAMPLE_SIZE,) + (2048,) * 3 +(1,), F.relu)\n",
    "critic = my.RN(SAMPLE_SIZE, 2 * N_CLASSES, (512,) * 3 + (1,), F.relu)\n",
    "\n",
    "if cuda:\n",
    "    c.cuda()\n",
    "    critic.cuda()\n",
    "\n",
    "# c_optim = SGD(c.parameters(), 0.1, momentum=0.5)\n",
    "# critic_optim = SGD(critic.parameters(), 0.1, momentum=0.5)\n",
    "c_optim = Adam(c.parameters(), 1e-3)\n",
    "critic_optim = Adam(critic.parameters(), 1e-3)\n",
    "\n",
    "float(my.nd_precision(my.predict(c, test_data), test_labels, N_CLASSES)), \\\n",
    "float(my.nd_recall(my.predict(c, test_data), test_labels, N_CLASSES)), \\\n",
    "float(my.nd_f_beta(my.predict(c, test_data), test_labels, N_CLASSES))"
   ]
  },
  {
   "cell_type": "code",
   "execution_count": null,
   "metadata": {
    "collapsed": true
   },
   "outputs": [],
   "source": [
    "# TODO\n",
    "from sklearn.metrics import precision_score, recall_score, f1_score\n",
    "y_bar = my.predict(c, test_data).data.cpu().numpy()\n",
    "precision_score(test_labels_np, y_bar, average='macro'), \\\n",
    "recall_score(test_labels_np, y_bar, average='macro'), \\\n",
    "f1_score(test_labels_np, y_bar, average='macro')"
   ]
  },
  {
   "cell_type": "code",
   "execution_count": null,
   "metadata": {},
   "outputs": [],
   "source": [
    "STD = 1e-1\n",
    "OUTER = 100\n",
    "INNER_ACTOR = 5\n",
    "N_PERTURBATIONS = 25\n",
    "INNER_CRITIC = 5\n",
    "BATCH_SIZE = 8\n",
    "\n",
    "for i in range(OUTER):\n",
    "    for p in c.parameters():\n",
    "        p.requires_grad = False\n",
    "    L_c = L(c, train_data, train_labels)\n",
    "    c_bar_list, target_list = [], []\n",
    "    for j in range(N_PERTURBATIONS):\n",
    "        c_bar_list.append(my.perturb(c, STD))\n",
    "        target = L_c - L(c_bar_list[-1], train_data, train_labels)\n",
    "        target_list.append(target[0])\n",
    "\n",
    "    s = sample(SAMPLE_SIZE, BATCH_SIZE)\n",
    "    y = th.cat([forward(c, x) for x in s], 0).detach()\n",
    "    for j in range(INNER_CRITIC): # TODO mini-batch\n",
    "        for c_bar, target in zip(c_bar_list, target_list):\n",
    "            y_bar = th.cat([forward(c_bar, x) for x in s], 0).detach()\n",
    "            delta = th.mean(critic(y) - critic(y_bar), 0)\n",
    "            mse = MSELoss()(delta, target)\n",
    "            critic_optim.zero_grad()\n",
    "            mse.backward()\n",
    "            critic_optim.step()\n",
    "\n",
    "    for p in c.parameters():\n",
    "        p.requires_grad = True\n",
    "    c_parameters = deepcopy(tuple(c.parameters()))\n",
    "    for j in range(INNER_ACTOR):\n",
    "        y = th.cat([forward(c, x) for x in s], 0)\n",
    "        objective = -th.mean(critic(y))\n",
    "        c_optim.zero_grad()\n",
    "        objective.backward()\n",
    "        c_optim.step()\n",
    "        if any(float(th.max(th.abs(p - q))) > STD for p, q in zip(c_parameters, c.parameters())):\n",
    "            break\n",
    "\n",
    "    if (i + 1) % 1 == 0:\n",
    "        y_bar = my.predict(c, test_data)\n",
    "        f1 = my.nd_f_beta(y_bar, test_labels, N_CLASSES)\n",
    "        print('[iteration %d]mse: %f, objective: %f, f1: %f' % ((i + 1), float(mse), float(objective), float(f1)))"
   ]
  },
  {
   "cell_type": "code",
   "execution_count": null,
   "metadata": {
    "collapsed": true
   },
   "outputs": [],
   "source": [
    "# STD = 0.05\n",
    "# OUTER = 5000\n",
    "# INNER_ACTOR = 5\n",
    "# INNER_CRITIC = 20\n",
    "\n",
    "# mse_list = []\n",
    "# for i in range(OUTER):\n",
    "#     targets = L_batch(c, STD, INNER_CRITIC)\n",
    "#     for j in range(INNER_CRITIC):\n",
    "#         c_bar, delta = targets[j]\n",
    "#         samples = sample()\n",
    "#         y = th.cat(tuple(map(lambda x: forward(c, x), samples)), 0).detach()\n",
    "#         y_bar = th.cat(tuple(map(lambda x: forward(c_bar, x), samples)), 0).detach()\n",
    "        \n",
    "#         mse = 1\n",
    "#         while float(mse) > 1e-3:\n",
    "#             delta_ = th.mean(critic(y) - critic(y_bar), 0)\n",
    "#             mse = MSELoss()(delta_, delta)\n",
    "#             mse_list.append(mse)\n",
    "#             critic_optim.zero_grad()\n",
    "#             mse.backward()\n",
    "#             critic_optim.step()\n",
    "\n",
    "#     c_parameters = deepcopy(tuple(c.parameters()))\n",
    "#     for j in range(INNER_ACTOR):\n",
    "#         samples = sample()\n",
    "#         y = th.cat(tuple(map(lambda x: forward(c, x), samples)), 0)\n",
    "#         objective = -th.mean(critic(y))\n",
    "#         c_optim.zero_grad()\n",
    "#         objective.backward()\n",
    "#         c_optim.step()\n",
    "#         if any(float(th.max(th.abs(p - q))) > STD for p, q in zip(c_parameters, c.parameters())):\n",
    "#             break\n",
    "\n",
    "#     if (i + 1) % 1 == 0:\n",
    "#         y_bar = my.predict(c, test_data)\n",
    "#         f1 = my.nd_f_beta(y_bar, test_labels, N_CLASSES)\n",
    "#         print('[iteration %d]mse: %f, objective: %f, f1: %f' % ((i + 1), float(mse), float(objective), float(f1)))"
   ]
  },
  {
   "cell_type": "code",
   "execution_count": null,
   "metadata": {
    "collapsed": true
   },
   "outputs": [],
   "source": [
    "import matplotlib.pylab as pl\n",
    "%matplotlib inline\n",
    "pl.plot(range(len(mse_list)), list(map(float, mse_list)))"
   ]
  },
  {
   "cell_type": "code",
   "execution_count": null,
   "metadata": {
    "collapsed": true
   },
   "outputs": [],
   "source": [
    "y_bar = my.predict(c, test_data)\n",
    "accuracy = my.accuracy(y_bar, test_labels)\n",
    "precision = my.nd_precision(y_bar, test_labels, N_CLASSES)\n",
    "recall = my.nd_recall(y_bar, test_labels, N_CLASSES)\n",
    "f1 = my.nd_f_beta(y_bar, test_labels, N_CLASSES)\n",
    "print('accuracy: %f, precision: %f, recall: %f, f1: %f' % tuple(map(float, (accuracy, precision, recall, f1))))"
   ]
  }
 ],
 "metadata": {
  "kernelspec": {
   "display_name": "Python 3",
   "language": "python",
   "name": "python3"
  },
  "language_info": {
   "codemirror_mode": {
    "name": "ipython",
    "version": 3
   },
   "file_extension": ".py",
   "mimetype": "text/x-python",
   "name": "python",
   "nbconvert_exporter": "python",
   "pygments_lexer": "ipython3",
   "version": "3.6.3"
  }
 },
 "nbformat": 4,
 "nbformat_minor": 2
}
