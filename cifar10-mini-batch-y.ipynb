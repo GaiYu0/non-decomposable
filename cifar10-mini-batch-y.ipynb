{
 "cells": [
  {
   "cell_type": "code",
   "execution_count": null,
   "metadata": {
    "collapsed": true
   },
   "outputs": [],
   "source": [
    "from __future__ import print_function\n",
    "import copy\n",
    "from threading import Condition, Thread\n",
    "import numpy as np\n",
    "import numpy.random as npr\n",
    "import torch as th\n",
    "import torch.nn as nn\n",
    "from torch.autograd import Variable\n",
    "from torch.nn.modules.loss import CrossEntropyLoss, MSELoss\n",
    "import torch.nn.functional as F\n",
    "from torch.optim import SGD, Adam\n",
    "from torch.utils.data import DataLoader, TensorDataset\n",
    "import my"
   ]
  },
  {
   "cell_type": "code",
   "execution_count": null,
   "metadata": {
    "collapsed": true
   },
   "outputs": [],
   "source": [
    "import matplotlib.pylab as pl\n",
    "%matplotlib inline"
   ]
  },
  {
   "cell_type": "code",
   "execution_count": null,
   "metadata": {
    "collapsed": true
   },
   "outputs": [],
   "source": [
    "N_TRAIN, N_TEST = 0, 0\n",
    "BATCH_SIZE = 64\n",
    "cuda = True\n",
    "\n",
    "# train_data, train_labels, test_data, test_labels = my.unbalanced_cifar10(N_TRAIN, N_TEST, p=[0, 1, 10])\n",
    "train_data, train_labels, test_data, test_labels = my.unbalanced_cifar10(N_TRAIN, N_TEST, p=[])\n",
    "\n",
    "train_data_np, train_labels_np, test_data_np, test_labels_np = \\\n",
    "    train_data, train_labels, test_data, test_labels\n",
    "    \n",
    "train_data = th.from_numpy(train_data).float()\n",
    "train_labels = th.from_numpy(train_labels).long()\n",
    "test_data = th.from_numpy(test_data).float()\n",
    "test_labels = th.from_numpy(test_labels).long()\n",
    "\n",
    "if cuda:\n",
    "    th.cuda.set_device(2)\n",
    "\n",
    "N_FEATURES = train_data.size()[1]\n",
    "N_CLASSES = int(train_labels.max() - train_labels.min() + 1)"
   ]
  },
  {
   "cell_type": "code",
   "execution_count": null,
   "metadata": {
    "collapsed": true
   },
   "outputs": [],
   "source": [
    "class CNN(nn.Module):\n",
    "    def __init__(self, n_classes):\n",
    "        super(CNN, self).__init__()\n",
    "        self.conv1 = nn.Conv2d(3, 16, 3, 2, 1)\n",
    "        self.conv2 = nn.Conv2d(16, 8, 3, 2, 1)\n",
    "        self.linear = nn.Linear(8, n_classes)\n",
    "    \n",
    "    def forward(self, x):\n",
    "        if x.dim() != 4:\n",
    "            x = x.view(-1, 3, 32, 32)\n",
    "        x = F.tanh(self.conv1(x))\n",
    "        x = F.tanh(self.conv2(x))\n",
    "        x = F.avg_pool2d(x, 8)\n",
    "        x = self.linear(x.view(-1, 8))\n",
    "        return x"
   ]
  },
  {
   "cell_type": "code",
   "execution_count": null,
   "metadata": {
    "collapsed": true
   },
   "outputs": [],
   "source": [
    "SAMPLE_SIZE = 64\n",
    "\n",
    "th.random.manual_seed(1)\n",
    "th.cuda.manual_seed_all(1)\n",
    "\n",
    "for x, y in DataLoader(TensorDataset(train_data, train_labels), SAMPLE_SIZE, shuffle=True):\n",
    "    if cuda:\n",
    "        x, y = x.cuda(), y.cuda()\n",
    "    x, y = Variable(x), Variable(y)\n",
    "    break\n",
    "\n",
    "L = lambda y_bar: my.nd_f_beta(th.max(y_bar, 1)[1], y, N_CLASSES)\n",
    "\n",
    "def perturb_y(y, std):\n",
    "    return y + (lambda x: x.cuda() if cuda else x)(Variable(th.randn(y.size()) * std))\n",
    "\n",
    "def critic_forward(y_bar, detach=False):\n",
    "    z_bar = F.softmax(y_bar, 1)\n",
    "    z = my.onehot(y, N_CLASSES)\n",
    "    x = th.cat((z_bar, z), 1).view(1, -1)\n",
    "    return critic((lambda x: x.detach() if detach else x)(x))\n",
    "\n",
    "def critic_mse(y_bar, y_perturbed, target):\n",
    "    l_bar = critic_forward(y_bar, True)\n",
    "    l_perturbed = critic_forward(y_perturbed, True)\n",
    "#     return th.mean(th.exp(target ** 2 / 0.1) * ((l_perturbed - l_bar) - target) ** 2)\n",
    "    return th.mean(((l_perturbed - l_bar) - target) ** 2)"
   ]
  },
  {
   "cell_type": "code",
   "execution_count": null,
   "metadata": {},
   "outputs": [],
   "source": [
    "th.random.manual_seed(1)\n",
    "th.cuda.manual_seed_all(1)\n",
    "\n",
    "# c = my.MLP((N_FEATURES,) + (512,) * 1 + (N_CLASSES,), F.relu)\n",
    "c = CNN(N_CLASSES)\n",
    "critic = my.RN(SAMPLE_SIZE, 2 * N_CLASSES, (512,) * 3 + (1,), F.relu)\n",
    "\n",
    "if cuda:\n",
    "    c.cuda()\n",
    "    critic.cuda()\n",
    "\n",
    "# c_optim = SGD(c.parameters(), 0.1, momentum=0.5)\n",
    "# critic_optim = SGD(critic.parameters(), 0.1, momentum=0.5)\n",
    "c_optim = Adam(c.parameters(), 1e-3)\n",
    "critic_optim = Adam(critic.parameters(), 1e-3)\n",
    "\n",
    "float(L(c(x)))"
   ]
  },
  {
   "cell_type": "code",
   "execution_count": null,
   "metadata": {},
   "outputs": [],
   "source": [
    "N_ITERATIONS = 250\n",
    "N_PERTURBATIONS = 25\n",
    "STD = 1e-0\n",
    "CRITIC_N_ITERATIONS = 10\n",
    "CLASSIFIER_N_ITERATIONS = 25\n",
    "\n",
    "# TODO replay buffer\n",
    "hist = []\n",
    "for i in range(N_ITERATIONS):\n",
    "    hist.append({})\n",
    "#     hist[-1]['c_state_dict'] = copy.deepcopy(c.state_dict())\n",
    "\n",
    "    c.eval()\n",
    "    critic.train()\n",
    "    y_bar = c(x)\n",
    "    L_bar = L(y_bar)\n",
    "    l_bar = critic_forward(y_bar, detach=True)\n",
    "\n",
    "    y_list, target_list, w_list = [], [], []\n",
    "    for j in range(N_PERTURBATIONS):\n",
    "        y_perturbed = perturb_y(y_bar, STD) # TODO perturb in simplex\n",
    "        L_perturbed = L(y_perturbed)\n",
    "        target = L_perturbed - L_bar\n",
    "        y_list.append(y_perturbed)\n",
    "        target_list.append(target)\n",
    "        w_list.append(th.exp(target ** 2 / 1e-2))\n",
    "\n",
    "    for j in range(CRITIC_N_ITERATIONS):\n",
    "        mse = 0\n",
    "        for y_perturbed, target, w in zip(y_list, target_list, w_list):\n",
    "            mse += w * critic_mse(y_bar, y_perturbed, target)\n",
    "        mse /= N_PERTURBATIONS\n",
    "        critic_optim.zero_grad()\n",
    "        mse.backward()\n",
    "        critic_optim.step()\n",
    "#     hist[-1]['critic_state_dict'] = copy.deepcopy(critic.state_dict())\n",
    "    \n",
    "    c.train()\n",
    "    critic.eval()\n",
    "    c_params = copy.deepcopy(tuple(c.parameters()))\n",
    "    for j in range(CLASSIFIER_N_ITERATIONS):\n",
    "        y_bar = c(x)\n",
    "        objective = -th.mean(critic_forward(y_bar))\n",
    "        c_optim.zero_grad()\n",
    "        objective.backward()\n",
    "        c_optim.step()\n",
    "        if any(float(th.max(th.abs(p - q))) > STD for p, q in zip(c_params, c.parameters())):\n",
    "            break\n",
    "    \n",
    "    if (i + 1) % 1 == 0:\n",
    "        f1 = L(c(x))\n",
    "        print('[iteration %d]mse: %f; f1: %f' % (i + 1, mse, f1))"
   ]
  }
 ],
 "metadata": {
  "kernelspec": {
   "display_name": "Python 3",
   "language": "python",
   "name": "python3"
  },
  "language_info": {
   "codemirror_mode": {
    "name": "ipython",
    "version": 3
   },
   "file_extension": ".py",
   "mimetype": "text/x-python",
   "name": "python",
   "nbconvert_exporter": "python",
   "pygments_lexer": "ipython3",
   "version": "3.6.3"
  }
 },
 "nbformat": 4,
 "nbformat_minor": 2
}
