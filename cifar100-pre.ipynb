{
 "cells": [
  {
   "cell_type": "code",
   "execution_count": 1,
   "metadata": {},
   "outputs": [],
   "source": [
    "import torch as th\n",
    "from torch.autograd import Variable\n",
    "from torch.nn.modules.loss import CrossEntropyLoss\n",
    "from torch.optim import SGD\n",
    "from torch.utils.data import DataLoader, TensorDataset\n",
    "import my\n",
    "import resnet"
   ]
  },
  {
   "cell_type": "code",
   "execution_count": 2,
   "metadata": {},
   "outputs": [],
   "source": [
    "train_x, train_y, test_x, test_y = tuple(map(th.from_numpy, my.load_cifar100(rbg=True)))\n",
    "train_x, test_x = train_x.float(), test_x.float()\n",
    "N_CLASSES = int(train_y.max() - train_y.min() + 1)\n",
    "\n",
    "train_loader = DataLoader(TensorDataset(train_x, train_y), batch_size=128, shuffle=True)\n",
    "test_loader = DataLoader(TensorDataset(test_x, test_y), batch_size=4096)"
   ]
  },
  {
   "cell_type": "code",
   "execution_count": 3,
   "metadata": {},
   "outputs": [],
   "source": [
    "c = resnet.ResNet(18, N_CLASSES)\n",
    "cuda = True # always GPU 0\n",
    "if cuda:\n",
    "    c.cuda()\n",
    "optim = SGD(c.parameters(), lr=1e-1, momentum=0.9, weight_decay=1e-4)"
   ]
  },
  {
   "cell_type": "code",
   "execution_count": 4,
   "metadata": {
    "scrolled": false
   },
   "outputs": [
    {
     "name": "stdout",
     "output_type": "stream",
     "text": [
      "[epoch 1]cross-entropy loss: 0.220086, accuracy: 0.907100\n",
      "[epoch 2]cross-entropy loss: 0.184958, accuracy: 0.915300\n",
      "[epoch 3]cross-entropy loss: 0.180198, accuracy: 0.916300\n",
      "[epoch 4]cross-entropy loss: 0.124158, accuracy: 0.930900\n",
      "[epoch 5]cross-entropy loss: 0.075682, accuracy: 0.935000\n",
      "[epoch 6]cross-entropy loss: 0.076197, accuracy: 0.940300\n",
      "[epoch 7]cross-entropy loss: 0.120525, accuracy: 0.948700\n",
      "[epoch 8]cross-entropy loss: 0.051341, accuracy: 0.945400\n",
      "[epoch 9]cross-entropy loss: 0.132847, accuracy: 0.954100\n",
      "[epoch 10]cross-entropy loss: 0.040626, accuracy: 0.955000\n",
      "[epoch 11]cross-entropy loss: 0.113100, accuracy: 0.954100\n",
      "[epoch 12]cross-entropy loss: 0.055043, accuracy: 0.953800\n",
      "[epoch 13]cross-entropy loss: 0.047538, accuracy: 0.950300\n",
      "[epoch 14]cross-entropy loss: 0.076877, accuracy: 0.955800\n",
      "[epoch 15]cross-entropy loss: 0.045346, accuracy: 0.951100\n",
      "[epoch 16]cross-entropy loss: 0.064889, accuracy: 0.957500\n",
      "[epoch 17]cross-entropy loss: 0.044144, accuracy: 0.953900\n",
      "[epoch 18]cross-entropy loss: 0.051679, accuracy: 0.959100\n",
      "[epoch 19]cross-entropy loss: 0.065835, accuracy: 0.955500\n",
      "[epoch 20]cross-entropy loss: 0.043780, accuracy: 0.957100\n",
      "[epoch 21]cross-entropy loss: 0.014406, accuracy: 0.955800\n",
      "[epoch 22]cross-entropy loss: 0.031289, accuracy: 0.952800\n",
      "[epoch 23]cross-entropy loss: 0.016135, accuracy: 0.953400\n",
      "[epoch 24]cross-entropy loss: 0.009695, accuracy: 0.954900\n",
      "[epoch 25]cross-entropy loss: 0.029474, accuracy: 0.957000\n",
      "[epoch 26]cross-entropy loss: 0.020610, accuracy: 0.951200\n",
      "[epoch 27]cross-entropy loss: 0.024957, accuracy: 0.951100\n",
      "[epoch 28]cross-entropy loss: 0.067523, accuracy: 0.955600\n",
      "[epoch 29]cross-entropy loss: 0.069419, accuracy: 0.953400\n",
      "[epoch 30]cross-entropy loss: 0.009229, accuracy: 0.951500\n",
      "[epoch 31]cross-entropy loss: 0.006834, accuracy: 0.951200\n",
      "[epoch 32]cross-entropy loss: 0.004668, accuracy: 0.954800\n",
      "[epoch 33]cross-entropy loss: 0.030920, accuracy: 0.954600\n",
      "[epoch 34]cross-entropy loss: 0.065067, accuracy: 0.956300\n",
      "[epoch 35]cross-entropy loss: 0.007921, accuracy: 0.950200\n",
      "[epoch 36]cross-entropy loss: 0.033876, accuracy: 0.954400\n",
      "[epoch 37]cross-entropy loss: 0.044573, accuracy: 0.957600\n",
      "[epoch 38]cross-entropy loss: 0.010433, accuracy: 0.953800\n",
      "[epoch 39]cross-entropy loss: 0.004985, accuracy: 0.952600\n",
      "[epoch 40]cross-entropy loss: 0.006889, accuracy: 0.954700\n",
      "[epoch 41]cross-entropy loss: 0.007782, accuracy: 0.954900\n",
      "[epoch 42]cross-entropy loss: 0.016096, accuracy: 0.954100\n",
      "[epoch 43]cross-entropy loss: 0.007749, accuracy: 0.957100\n",
      "[epoch 44]cross-entropy loss: 0.036856, accuracy: 0.953900\n",
      "[epoch 45]cross-entropy loss: 0.030373, accuracy: 0.950400\n",
      "[epoch 46]cross-entropy loss: 0.004056, accuracy: 0.958800\n",
      "[epoch 47]cross-entropy loss: 0.032484, accuracy: 0.954900\n",
      "[epoch 48]cross-entropy loss: 0.028223, accuracy: 0.953800\n",
      "[epoch 49]cross-entropy loss: 0.056070, accuracy: 0.953600\n",
      "[epoch 50]cross-entropy loss: 0.011371, accuracy: 0.958000\n"
     ]
    }
   ],
   "source": [
    "EPOCHS = 50\n",
    "for i in range(EPOCHS):\n",
    "    for j, (x, y) in enumerate(train_loader):\n",
    "        if cuda:\n",
    "            x, y = x.cuda(), y.cuda()\n",
    "        x, y = Variable(x), Variable(y)\n",
    "        ce = CrossEntropyLoss()(c(x), y)\n",
    "        optim.zero_grad()\n",
    "        ce.backward()\n",
    "        optim.step()\n",
    "    test_acc = my.parallel_global_stats(c, test_loader, my.accuracy, range(4))\n",
    "    print('[epoch %d]cross-entropy loss: %f, accuracy: %f' % ((i + 1), float(ce), float(test_acc)))"
   ]
  },
  {
   "cell_type": "code",
   "execution_count": 5,
   "metadata": {},
   "outputs": [],
   "source": [
    "# for pg in optim.param_groups:\n",
    "#     pg['lr'] *= 0.1"
   ]
  },
  {
   "cell_type": "code",
   "execution_count": 6,
   "metadata": {},
   "outputs": [],
   "source": [
    "# th.save(c.state_dict(), 'cifar10-resnet18')\n",
    "# th.save(c.state_dict(), 'cifar100-1-9-resnet18')"
   ]
  }
 ],
 "metadata": {
  "kernelspec": {
   "display_name": "Python 3",
   "language": "python",
   "name": "python3"
  },
  "language_info": {
   "codemirror_mode": {
    "name": "ipython",
    "version": 3
   },
   "file_extension": ".py",
   "mimetype": "text/x-python",
   "name": "python",
   "nbconvert_exporter": "python",
   "pygments_lexer": "ipython3",
   "version": "3.6.4"
  }
 },
 "nbformat": 4,
 "nbformat_minor": 2
}
