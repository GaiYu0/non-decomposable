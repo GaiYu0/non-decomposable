{
 "cells": [
  {
   "cell_type": "code",
   "execution_count": 1,
   "metadata": {
    "collapsed": true
   },
   "outputs": [],
   "source": [
    "import matplotlib.pylab as pl\n",
    "%matplotlib inline\n",
    "import torch as th\n",
    "import torch.nn as nn\n",
    "import torch.nn.functional as F\n",
    "from torch.utils.data import DataLoader, TensorDataset\n",
    "import my"
   ]
  },
  {
   "cell_type": "code",
   "execution_count": 2,
   "metadata": {
    "collapsed": true
   },
   "outputs": [],
   "source": [
    "class CNN(nn.Module):\n",
    "    def __init__(self, n_classes, shape=None):\n",
    "        super(CNN, self).__init__()\n",
    "        self.shape = shape\n",
    "        self.conv1 = nn.Conv2d(shape[0], 16, 3, 2, 1)\n",
    "        self.conv2 = nn.Conv2d(16, 8, 3, 2, 1)\n",
    "        self.linear = nn.Linear(8, n_classes)\n",
    "    \n",
    "    def forward(self, x):\n",
    "        if self.shape:\n",
    "            x = x.view(-1, *self.shape)\n",
    "        x = F.tanh(self.conv1(x))\n",
    "        x = F.tanh(self.conv2(x))\n",
    "        x = F.avg_pool2d(x, x.size()[-1])\n",
    "        x = self.linear(x.view(-1, 8))\n",
    "        return x"
   ]
  },
  {
   "cell_type": "code",
   "execution_count": 3,
   "metadata": {
    "collapsed": true
   },
   "outputs": [],
   "source": [
    "def sample(module):\n",
    "    is_cuda = next(module.parameters()).is_cuda\n",
    "    if is_cuda:\n",
    "        device = next(module.parameters()).get_device()\n",
    "    contextualize = lambda x: x.cuda(device) if is_cuda else x\n",
    "    for p in module.parameters():\n",
    "        p.data = contextualize(th.rand(p.data.size()) * 2 - 1)"
   ]
  },
  {
   "cell_type": "code",
   "execution_count": 4,
   "metadata": {
    "collapsed": true
   },
   "outputs": [],
   "source": [
    "N_TRAIN, N_TEST = 0, 0\n",
    "BATCH_SIZE = 1024\n",
    "N_SAMPLES = 10000\n",
    "cuda = True\n",
    "if cuda:\n",
    "    th.cuda.set_device(3)"
   ]
  },
  {
   "cell_type": "code",
   "execution_count": 5,
   "metadata": {
    "collapsed": true
   },
   "outputs": [],
   "source": [
    "# MNIST\n",
    "train_data, train_labels, test_data, test_labels = my.unbalanced_dataset('MNIST', N_TRAIN, N_TEST, p=[])\n",
    "\n",
    "train_data = th.from_numpy(train_data).float()\n",
    "train_labels = th.from_numpy(train_labels).long()\n",
    "test_data = th.from_numpy(test_data).float()\n",
    "test_labels = th.from_numpy(test_labels).long()\n",
    "\n",
    "train_loader = DataLoader(TensorDataset(train_data, train_labels), BATCH_SIZE, shuffle=True)\n",
    "test_loader = DataLoader(TensorDataset(test_data, test_labels), BATCH_SIZE)\n",
    "\n",
    "N_FEATURES = train_data.size()[1]\n",
    "N_CLASSES = int(train_labels.max() - train_labels.min() + 1)"
   ]
  },
  {
   "cell_type": "code",
   "execution_count": 6,
   "metadata": {},
   "outputs": [
    {
     "name": "stdout",
     "output_type": "stream",
     "text": [
      "[turn 100]\n",
      "[turn 200]\n",
      "[turn 300]\n",
      "[turn 400]\n",
      "[turn 500]\n",
      "[turn 600]\n",
      "[turn 700]\n",
      "[turn 800]\n",
      "[turn 900]\n",
      "[turn 1000]\n",
      "[turn 1100]\n",
      "[turn 1200]\n",
      "[turn 1300]\n",
      "[turn 1400]\n",
      "[turn 1500]\n",
      "[turn 1600]\n",
      "[turn 1700]\n",
      "[turn 1800]\n",
      "[turn 1900]\n",
      "[turn 2000]\n",
      "[turn 2100]\n",
      "[turn 2200]\n",
      "[turn 2300]\n",
      "[turn 2400]\n",
      "[turn 2500]\n",
      "[turn 2600]\n",
      "[turn 2700]\n",
      "[turn 2800]\n",
      "[turn 2900]\n",
      "[turn 3000]\n",
      "[turn 3100]\n",
      "[turn 3200]\n",
      "[turn 3300]\n",
      "[turn 3400]\n",
      "[turn 3500]\n",
      "[turn 3600]\n",
      "[turn 3700]\n",
      "[turn 3800]\n",
      "[turn 3900]\n",
      "[turn 4000]\n",
      "[turn 4100]\n",
      "[turn 4200]\n",
      "[turn 4300]\n",
      "[turn 4400]\n",
      "[turn 4500]\n",
      "[turn 4600]\n",
      "[turn 4700]\n",
      "[turn 4800]\n",
      "[turn 4900]\n",
      "[turn 5000]\n",
      "[turn 5100]\n",
      "[turn 5200]\n",
      "[turn 5300]\n",
      "[turn 5400]\n",
      "[turn 5500]\n",
      "[turn 5600]\n",
      "[turn 5700]\n",
      "[turn 5800]\n",
      "[turn 5900]\n",
      "[turn 6000]\n",
      "[turn 6100]\n",
      "[turn 6200]\n",
      "[turn 6300]\n",
      "[turn 6400]\n",
      "[turn 6500]\n",
      "[turn 6600]\n",
      "[turn 6700]\n",
      "[turn 6800]\n",
      "[turn 6900]\n",
      "[turn 7000]\n",
      "[turn 7100]\n",
      "[turn 7200]\n",
      "[turn 7300]\n",
      "[turn 7400]\n",
      "[turn 7500]\n",
      "[turn 7600]\n",
      "[turn 7700]\n",
      "[turn 7800]\n",
      "[turn 7900]\n",
      "[turn 8000]\n",
      "[turn 8100]\n",
      "[turn 8200]\n",
      "[turn 8300]\n",
      "[turn 8400]\n",
      "[turn 8500]\n",
      "[turn 8600]\n",
      "[turn 8700]\n",
      "[turn 8800]\n",
      "[turn 8900]\n",
      "[turn 9000]\n",
      "[turn 9100]\n",
      "[turn 9200]\n",
      "[turn 9300]\n",
      "[turn 9400]\n",
      "[turn 9500]\n",
      "[turn 9600]\n",
      "[turn 9700]\n",
      "[turn 9800]\n",
      "[turn 9900]\n",
      "[turn 10000]\n"
     ]
    }
   ],
   "source": [
    "# c = nn.Linear(N_FEATURES, N_CLASSES)\n",
    "c = CNN(N_CLASSES, (1, 28, 28))\n",
    "if cuda:\n",
    "    c.cuda()\n",
    "\n",
    "mnist_f1_list = []\n",
    "for i in range(N_SAMPLES):\n",
    "    sample(c)\n",
    "    f1 = my.global_stats(c, test_loader, my.nd_curry(my.nd_f_beta, N_CLASSES))\n",
    "    mnist_f1_list.append(float(f1))\n",
    "    if (i + 1) % 100 == 0:\n",
    "        print('[turn %d]' % (i + 1))"
   ]
  },
  {
   "cell_type": "code",
   "execution_count": 7,
   "metadata": {
    "collapsed": true
   },
   "outputs": [],
   "source": [
    "# CIFAR10\n",
    "train_data, train_labels, test_data, test_labels = my.unbalanced_cifar10(N_TRAIN, N_TEST, p=[])\n",
    "    \n",
    "train_data = th.from_numpy(train_data).float()\n",
    "train_labels = th.from_numpy(train_labels).long()\n",
    "test_data = th.from_numpy(test_data).float()\n",
    "test_labels = th.from_numpy(test_labels).long()\n",
    "\n",
    "train_loader = DataLoader(TensorDataset(train_data, train_labels), BATCH_SIZE, shuffle=True)\n",
    "test_loader = DataLoader(TensorDataset(test_data, test_labels), BATCH_SIZE)\n",
    "\n",
    "N_FEATURES = train_data.size()[1]\n",
    "N_CLASSES = int(train_labels.max() - train_labels.min() + 1)"
   ]
  },
  {
   "cell_type": "code",
   "execution_count": 8,
   "metadata": {},
   "outputs": [
    {
     "name": "stdout",
     "output_type": "stream",
     "text": [
      "[turn 100]\n",
      "[turn 200]\n",
      "[turn 300]\n",
      "[turn 400]\n",
      "[turn 500]\n",
      "[turn 600]\n",
      "[turn 700]\n",
      "[turn 800]\n",
      "[turn 900]\n",
      "[turn 1000]\n",
      "[turn 1100]\n",
      "[turn 1200]\n",
      "[turn 1300]\n",
      "[turn 1400]\n",
      "[turn 1500]\n",
      "[turn 1600]\n",
      "[turn 1700]\n",
      "[turn 1800]\n",
      "[turn 1900]\n",
      "[turn 2000]\n",
      "[turn 2100]\n",
      "[turn 2200]\n",
      "[turn 2300]\n",
      "[turn 2400]\n",
      "[turn 2500]\n",
      "[turn 2600]\n",
      "[turn 2700]\n",
      "[turn 2800]\n",
      "[turn 2900]\n",
      "[turn 3000]\n",
      "[turn 3100]\n",
      "[turn 3200]\n",
      "[turn 3300]\n",
      "[turn 3400]\n",
      "[turn 3500]\n",
      "[turn 3600]\n",
      "[turn 3700]\n",
      "[turn 3800]\n",
      "[turn 3900]\n",
      "[turn 4000]\n",
      "[turn 4100]\n",
      "[turn 4200]\n",
      "[turn 4300]\n",
      "[turn 4400]\n",
      "[turn 4500]\n",
      "[turn 4600]\n",
      "[turn 4700]\n",
      "[turn 4800]\n",
      "[turn 4900]\n",
      "[turn 5000]\n",
      "[turn 5100]\n",
      "[turn 5200]\n",
      "[turn 5300]\n",
      "[turn 5400]\n",
      "[turn 5500]\n",
      "[turn 5600]\n",
      "[turn 5700]\n",
      "[turn 5800]\n",
      "[turn 5900]\n",
      "[turn 6000]\n",
      "[turn 6100]\n",
      "[turn 6200]\n",
      "[turn 6300]\n",
      "[turn 6400]\n",
      "[turn 6500]\n",
      "[turn 6600]\n",
      "[turn 6700]\n",
      "[turn 6800]\n",
      "[turn 6900]\n",
      "[turn 7000]\n",
      "[turn 7100]\n",
      "[turn 7200]\n",
      "[turn 7300]\n",
      "[turn 7400]\n",
      "[turn 7500]\n",
      "[turn 7600]\n",
      "[turn 7700]\n",
      "[turn 7800]\n",
      "[turn 7900]\n",
      "[turn 8000]\n",
      "[turn 8100]\n",
      "[turn 8200]\n",
      "[turn 8300]\n",
      "[turn 8400]\n",
      "[turn 8500]\n",
      "[turn 8600]\n",
      "[turn 8700]\n",
      "[turn 8800]\n",
      "[turn 8900]\n",
      "[turn 9000]\n",
      "[turn 9100]\n",
      "[turn 9200]\n",
      "[turn 9300]\n",
      "[turn 9400]\n",
      "[turn 9500]\n",
      "[turn 9600]\n",
      "[turn 9700]\n",
      "[turn 9800]\n",
      "[turn 9900]\n",
      "[turn 10000]\n"
     ]
    }
   ],
   "source": [
    "# c = nn.Linear(N_FEATURES, N_CLASSES)\n",
    "c = CNN(N_CLASSES, (3, 32, 32))\n",
    "if cuda:\n",
    "    c.cuda()\n",
    "\n",
    "cifar10_f1_list = []\n",
    "for i in range(N_SAMPLES):\n",
    "    sample(c)\n",
    "    f1 = my.global_stats(c, test_loader, my.nd_curry(my.nd_f_beta, N_CLASSES))\n",
    "    cifar10_f1_list.append(float(f1))\n",
    "    if (i + 1) % 100 == 0:\n",
    "        print('[turn %d]' % (i + 1))"
   ]
  },
  {
   "cell_type": "code",
   "execution_count": 9,
   "metadata": {},
   "outputs": [
    {
     "data": {
      "text/plain": [
       "'mnist: 0.172465; cifar10: 0.194974'"
      ]
     },
     "execution_count": 9,
     "metadata": {},
     "output_type": "execute_result"
    },
    {
     "data": {
      "image/png": "[encoded data removed]",
      "text/plain": [
       "<matplotlib.figure.Figure at 0x7f816a59e4e0>"
      ]
     },
     "metadata": {},
     "output_type": "display_data"
    }
   ],
   "source": [
    "pl.hist(mnist_f1_list, bins=100, range=(0, 1), label='mnist')\n",
    "pl.hist(cifar10_f1_list, bins=100, range=(0, 1), label='cifar10')\n",
    "pl.legend(framealpha=0)\n",
    "'mnist: %f; cifar10: %f' % (max(mnist_f1_list), max(cifar10_f1_list))"
   ]
  }
 ],
 "metadata": {
  "kernelspec": {
   "display_name": "Python 3",
   "language": "python",
   "name": "python3"
  },
  "language_info": {
   "codemirror_mode": {
    "name": "ipython",
    "version": 3
   },
   "file_extension": ".py",
   "mimetype": "text/x-python",
   "name": "python",
   "nbconvert_exporter": "python",
   "pygments_lexer": "ipython3",
   "version": "3.6.3"
  }
 },
 "nbformat": 4,
 "nbformat_minor": 2
}
