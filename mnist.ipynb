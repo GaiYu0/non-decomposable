{
 "cells": [
  {
   "cell_type": "code",
   "execution_count": null,
   "metadata": {},
   "outputs": [],
   "source": [
    "import copy\n",
    "import time\n",
    "import torch as th\n",
    "from torch.nn.modules.loss import CrossEntropyLoss\n",
    "import torch.nn.functional as F\n",
    "from torch.optim import Adam\n",
    "from torch.utils.data import DataLoader, TensorDataset\n",
    "import my\n",
    "import lenet"
   ]
  },
  {
   "cell_type": "code",
   "execution_count": null,
   "metadata": {},
   "outputs": [],
   "source": [
    "class Args:\n",
    "    pass\n",
    "args = Args()\n",
    "\n",
    "args.master_gpu = 0\n",
    "args.n_epochs = 25"
   ]
  },
  {
   "cell_type": "code",
   "execution_count": null,
   "metadata": {},
   "outputs": [],
   "source": [
    "cuda = args.master_gpu >= 0\n",
    "if cuda:\n",
    "    th.cuda.set_device(args.master_gpu)\n",
    "\n",
    "labelling = {}\n",
    "# labelling = {(0, 1) : 1, (1, 10) : 0}\n",
    "# labelling = {(0, 1) : 0, (1, 4) : 1, (4, 7) : 2, (7, 10) : 3}\n",
    "train_x, train_y, test_x, test_y = my.load_mnist(labelling, rbg=True)\n",
    "# train_x, train_y, test_x, test_y = my.load_mnist(labelling, rbg=False)\n",
    "\n",
    "train_loader = DataLoader(TensorDataset(train_x, train_y), 64, shuffle=True, drop_last=True)\n",
    "test_loader = DataLoader(TensorDataset(test_x, test_y), 4096, drop_last=True)\n",
    "\n",
    "n_classes = int(train_y.max() - train_y.min() + 1)"
   ]
  },
  {
   "cell_type": "code",
   "execution_count": null,
   "metadata": {},
   "outputs": [],
   "source": [
    "nd_f_beta = lambda y_bar, y: my.nd_f_beta(y_bar, y, n_classes)\n",
    "nd_precision = lambda y_bar, y: my.nd_precision(y_bar, y, n_classes)\n",
    "nd_recall = lambda y_bar, y: my.nd_recall(y_bar, y, n_classes)\n",
    "stats = (my.accuracy, nd_f_beta, nd_precision, nd_recall)"
   ]
  },
  {
   "cell_type": "code",
   "execution_count": null,
   "metadata": {},
   "outputs": [],
   "source": [
    "# c = my.MLP((784, n_classes), None)\n",
    "c = lenet.LeNet(1, n_classes, 28)\n",
    "if cuda:\n",
    "    c.cuda()\n",
    "optim = Adam(c.parameters(), lr=0.001)\n",
    "for i in range(args.n_epochs):\n",
    "    for x, y in train_loader:\n",
    "        if cuda:\n",
    "            x, y = x.cuda(), y.cuda()\n",
    "        ce = CrossEntropyLoss()(c(x), y)\n",
    "        optim.zero_grad()\n",
    "        ce.backward()\n",
    "        optim.step()\n",
    "    accuracy, precision, recall, f1 = my.global_stats(c, test_loader, stats)\n",
    "    print('[epoch %d]accuracy: %f; precision: %f; recall: %f; f1: %f' % (i + 1, accuracy, precision, recall, f1))"
   ]
  },
  {
   "cell_type": "markdown",
   "metadata": {},
   "source": [
    "# Algorithm\n",
    "\n",
    "Let $c$ be a classifier and $D=\\{(X_1, y_1),...,(X_N, y_N)\\}$ be the set of training data. In order to minimize $L(c, D)$, where $L$ is a non-decomposable loss function, we introduce $L_\\theta$, a parameterized approximation of $L(c, D)$, and update $c$ as follows:\n",
    "\n",
    "1. Compute $\\delta = L(c, D)-L(\\bar{c},D)$, where $\\bar{c}$ is obtained by stochastically perturbing the parameters of $c$\n",
    "\n",
    "2. Randomly sample $K$ subsets, $D_1, ..., D_K$, of $D$ (these subsets may vary in cardinality)\n",
    "\n",
    "3. Minimize $(\\delta - \\frac1K \\sum_{i = 1}^K \\delta_i)^2$ with respect to $\\theta$, where $\\delta_i = L_\\theta(c, D_i) - L_\\theta(\\bar{c}, D_i)$\n",
    "\n",
    "4. Repeat 1, 2, and 3 several times until $L_\\theta$ becomes a satisfactory approximation of $L$ near $c$\n",
    "\n",
    "5. Randomly sample $K'$ subsets, $D_1, ..., D_K'$, of $D$ and let $c \\leftarrow c - \\alpha \\sum_{i = 1}^K \\frac{\\partial L_\\theta}{\\partial c} (c, D_i)$, where $\\alpha$ is a positive learning rate"
   ]
  },
  {
   "cell_type": "code",
   "execution_count": null,
   "metadata": {},
   "outputs": [],
   "source": [
    "args = Args()\n",
    "\n",
    "args.actor_iterations = 25\n",
    "args.c_batch_size = 8\n",
    "args.critic_batch_size = 8\n",
    "args.critic_iterations = 25\n",
    "args.n_iterations = 1000\n",
    "args.n_perturbations = 100\n",
    "args.sample_size = 50\n",
    "args.std = 1e-1\n",
    "args.tau = 1e-1\n",
    "\n",
    "verbose = None"
   ]
  },
  {
   "cell_type": "code",
   "execution_count": null,
   "metadata": {},
   "outputs": [],
   "source": [
    "def forward(c, xy):\n",
    "    x, y = xy\n",
    "    y = my.onehot(y, n_classes)\n",
    "    y_bar = F.softmax(c(x), 1)\n",
    "    return th.cat((y, y_bar), 1).view(1, -1)\n",
    "\n",
    "def L_global(c, loader):\n",
    "    return my.global_stats(c, loader, lambda y_bar, y: my.nd_f_beta(y_bar, y, n_classes))"
   ]
  },
  {
   "cell_type": "code",
   "execution_count": null,
   "metadata": {},
   "outputs": [],
   "source": [
    "train_set = TensorDataset(train_x, train_y)\n",
    "train_loader = DataLoader(TensorDataset(train_x, train_y), 8192)\n",
    "\n",
    "# c = my.MLP((784, n_classes), None)\n",
    "c = lenet.LeNet(1, n_classes, 28)\n",
    "\n",
    "critic = my.RN(args.sample_size, 2 * n_classes, tuple(), (4 * n_classes, 64, 256), (256, 64) + (1,), F.relu, triu=True)\n",
    "\n",
    "if cuda:\n",
    "    c.cuda()\n",
    "    critic.cuda()\n",
    "\n",
    "c_optim = Adam(c.parameters(), eps=1e-3)\n",
    "critic_optim = Adam(critic.parameters())\n",
    "\n",
    "print('initial f1: %f' % L_global(c, test_loader))"
   ]
  },
  {
   "cell_type": "code",
   "execution_count": null,
   "metadata": {},
   "outputs": [],
   "source": [
    "hist = []\n",
    "for i in range(args.n_iterations):\n",
    "    hist.append({})\n",
    "#     hist[-1]['critic_state_dict'] = copy.deepcopy(my.state_dict_gpu2cpu(critic.state_dict()))        \n",
    "#     hist[-1]['critic_optim_state_dict'] = my.optim_state_dict_gpu2cpu(critic_optim.state_dict())\n",
    "#     hist[-1]['c_state_dict'] = copy.deepcopy(my.state_dict_gpu2cpu(c.state_dict()))\n",
    "#     hist[-1]['c_optim_state_dict'] = my.optim_state_dict_gpu2cpu(c_optim.state_dict())\n",
    "\n",
    "    if verbose == 0:\n",
    "        t0 = time.time()\n",
    "\n",
    "    L_c = L_global(c, train_loader)\n",
    "    c_bar_list = []\n",
    "    L_bar_list = []\n",
    "    t_list = []\n",
    "    for j in range(args.n_perturbations):\n",
    "        c_bar_list.append(my.perturb(c, args.std))\n",
    "        L_bar = L_global(c_bar_list[-1], train_loader)\n",
    "        L_bar_list.append(L_bar)\n",
    "        t_list.append(L_c - L_bar)\n",
    "    w_list = [th.exp(t ** 2 / args.tau) for t in t_list]\n",
    "    z = sum(w_list)\n",
    "    w_list = [w / z for w in w_list]\n",
    "\n",
    "    hist[-1]['L_bar_list'] = L_bar_list\n",
    "    hist[-1]['w_list'] = w_list\n",
    "\n",
    "    if verbose == 0:\n",
    "        t1 = time.time()\n",
    "        print('[iteration %d]t1 - t0: %f' % (i + 1, t1 - t0))\n",
    "    \n",
    "    s_critic = my.sample(train_set, args.sample_size, args.critic_batch_size, cuda)\n",
    "    y = th.cat([forward(c, xy) for xy in s_critic], 0).detach()\n",
    "    y_bar_list = [th.cat([forward(c_bar, xy) for xy in s_critic], 0).detach() for c_bar in c_bar_list]\n",
    "    for j in range(args.critic_iterations):\n",
    "        for y_bar, t, w in zip(y_bar_list, t_list, w_list):\n",
    "            delta = critic(y) - critic(y_bar)\n",
    "            mse = w * th.sum((t - delta) ** 2)\n",
    "            critic_optim.zero_grad()\n",
    "            mse.backward()\n",
    "            critic_optim.step()\n",
    "#     assert not my.module_isnan(critic)\n",
    "\n",
    "    if verbose == 0:\n",
    "        t2 = time.time()\n",
    "        print('[iteration %d]t2 - t1: %f' % (i + 1, t2 - t1))\n",
    "\n",
    "    c_param = copy.deepcopy(tuple(c.parameters()))\n",
    "    for j in range(args.actor_iterations):\n",
    "        s = s_critic + my.sample(train_set, args.sample_size, args.c_batch_size, cuda)\n",
    "        y_bar = th.cat([forward(c, xy) for xy in s], 0)\n",
    "        objective = -th.mean(critic(y_bar))\n",
    "        c_optim.zero_grad()\n",
    "        objective.backward()\n",
    "        c_optim.step()\n",
    "        if any(float(th.max(th.abs(p - q))) > args.std for p, q in zip(c_param, c.parameters())):\n",
    "            break\n",
    "#     assert not my.module_isnan(c)\n",
    "\n",
    "    if verbose == 0:\n",
    "        t3 = time.time()\n",
    "        print('[iteration %d]t3 - t2: %f' % (i + 1, t3 - t2))\n",
    "\n",
    "    f1 = L_global(c, test_loader)\n",
    "    hist[-1]['f1'] = float(f1)\n",
    "    \n",
    "    if (i + 1) % 1 == 0:\n",
    "        print('[iteration %d]f1: %f' % (i + 1, f1))"
   ]
  }
 ],
 "metadata": {
  "kernelspec": {
   "display_name": "Python 3",
   "language": "python",
   "name": "python3"
  },
  "language_info": {
   "codemirror_mode": {
    "name": "ipython",
    "version": 3
   },
   "file_extension": ".py",
   "mimetype": "text/x-python",
   "name": "python",
   "nbconvert_exporter": "python",
   "pygments_lexer": "ipython3",
   "version": "3.6.4"
  }
 },
 "nbformat": 4,
 "nbformat_minor": 2
}
