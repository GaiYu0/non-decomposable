{
 "cells": [
  {
   "cell_type": "code",
   "execution_count": 1,
   "metadata": {},
   "outputs": [],
   "source": [
    "import torch as th\n",
    "from torch.nn.modules.loss import CrossEntropyLoss\n",
    "import torch.nn.functional as F\n",
    "from torch.optim import Adam\n",
    "from torch.utils.data import DataLoader, TensorDataset\n",
    "import my\n",
    "import lenet"
   ]
  },
  {
   "cell_type": "code",
   "execution_count": 2,
   "metadata": {},
   "outputs": [],
   "source": [
    "class Args:\n",
    "    pass\n",
    "args = Args()\n",
    "\n",
    "args.master_gpu = 0\n",
    "args.n_epochs = 10"
   ]
  },
  {
   "cell_type": "code",
   "execution_count": 3,
   "metadata": {},
   "outputs": [],
   "source": [
    "cuda = args.master_gpu >= 0\n",
    "if cuda:\n",
    "    th.cuda.set_device(args.master_gpu)\n",
    "\n",
    "# train_x, train_y, test_x, test_y = my.load_mnist(partition=(0, 1, 10), rbg=True)\n",
    "train_x, train_y, test_x, test_y = my.load_mnist(partition=(0, 1, 10), rbg=False)\n",
    "\n",
    "train_loader = DataLoader(TensorDataset(train_x, train_y), 64, shuffle=True, drop_last=True)\n",
    "test_loader = DataLoader(TensorDataset(test_x, test_y), 4096, drop_last=True)\n",
    "\n",
    "n_classes = int(train_y.max() - train_y.min() + 1)"
   ]
  },
  {
   "cell_type": "code",
   "execution_count": 4,
   "metadata": {},
   "outputs": [],
   "source": [
    "nd_f_beta = lambda y_bar, y: my.nd_f_beta(y_bar, y, n_classes)\n",
    "nd_precision = lambda y_bar, y: my.nd_precision(y_bar, y, n_classes)\n",
    "nd_recall = lambda y_bar, y: my.nd_recall(y_bar, y, n_classes)\n",
    "stats = (my.accuracy, nd_f_beta, nd_precision, nd_recall)"
   ]
  },
  {
   "cell_type": "code",
   "execution_count": 5,
   "metadata": {},
   "outputs": [
    {
     "name": "stdout",
     "output_type": "stream",
     "text": [
      "[epoch 1]accuracy: 0.970215; precision: 0.927909; recall: 0.885567; f1: 0.974515\n",
      "[epoch 2]accuracy: 0.986206; precision: 0.962371; recall: 0.946954; f1: 0.978309\n",
      "[epoch 3]accuracy: 0.986572; precision: 0.963283; recall: 0.948531; f1: 0.978512\n",
      "[epoch 4]accuracy: 0.989014; precision: 0.968925; recall: 0.964778; f1: 0.973118\n",
      "[epoch 5]accuracy: 0.988525; precision: 0.967221; recall: 0.967227; f1: 0.967227\n",
      "[epoch 6]accuracy: 0.990723; precision: 0.973763; recall: 0.969573; f1: 0.977999\n",
      "[epoch 7]accuracy: 0.989868; precision: 0.971212; recall: 0.968854; f1: 0.973591\n",
      "[epoch 8]accuracy: 0.989868; precision: 0.971364; recall: 0.966938; f1: 0.975840\n",
      "[epoch 9]accuracy: 0.989868; precision: 0.971661; recall: 0.963690; f1: 0.979775\n",
      "[epoch 10]accuracy: 0.990479; precision: 0.972999; recall: 0.969850; f1: 0.976178\n"
     ]
    }
   ],
   "source": [
    "c = my.MLP((28 * 28, n_classes), None)\n",
    "# c = lenet.LeNet(F.tanh)\n",
    "if cuda:\n",
    "    c.cuda()\n",
    "optim = Adam(c.parameters(), lr=0.001)\n",
    "for i in range(args.n_epochs):\n",
    "    for x, y in train_loader:\n",
    "        if cuda:\n",
    "            x, y = x.cuda(), y.cuda()\n",
    "        ce = CrossEntropyLoss()(c(x), y)\n",
    "        optim.zero_grad()\n",
    "        ce.backward()\n",
    "        optim.step()\n",
    "    accuracy, precision, recall, f1 = my.global_stats(c, test_loader, stats)\n",
    "    print('[epoch %d]accuracy: %f; precision: %f; recall: %f; f1: %f' % (i + 1, accuracy, precision, recall, f1))"
   ]
  },
  {
   "cell_type": "markdown",
   "metadata": {},
   "source": [
    "# Algorithm\n",
    "\n",
    "Let $c$ be a classifier and $D=\\{(X_1, y_1),...,(X_N, y_N)\\}$ be the set of training data. In order to minimize $L(c, D)$, where $L$ is a non-decomposable loss function, we introduce $L_\\theta$, a parameterized approximation of $L(c, D)$, and update $c$ as follows:\n",
    "\n",
    "1. Compute $\\delta = L(c, D)-L(\\bar{c},D)$, where $\\bar{c}$ is obtained by stochastically perturbing the parameters of $c$\n",
    "\n",
    "2. Randomly sample $K$ subsets, $D_1, ..., D_K$, of $D$ (these subsets may vary in cardinality)\n",
    "\n",
    "3. Minimize $(\\delta - \\frac1K \\sum_{i = 1}^K \\delta_i)^2$ with respect to $\\theta$, where $\\delta_i = L_\\theta(c, D_i) - L_\\theta(\\bar{c}, D_i)$\n",
    "\n",
    "4. Repeat 1, 2, and 3 several times until $L_\\theta$ becomes a satisfactory approximation of $L$ near $c$\n",
    "\n",
    "5. Randomly sample $K'$ subsets, $D_1, ..., D_K'$, of $D$ and let $c \\leftarrow c - \\alpha \\sum_{i = 1}^K \\frac{\\partial L_\\theta}{\\partial c} (c, D_i)$, where $\\alpha$ is a positive learning rate"
   ]
  }
 ],
 "metadata": {
  "kernelspec": {
   "display_name": "Python 3",
   "language": "python",
   "name": "python3"
  },
  "language_info": {
   "codemirror_mode": {
    "name": "ipython",
    "version": 3
   },
   "file_extension": ".py",
   "mimetype": "text/x-python",
   "name": "python",
   "nbconvert_exporter": "python",
   "pygments_lexer": "ipython3",
   "version": "3.6.4"
  }
 },
 "nbformat": 4,
 "nbformat_minor": 2
}
