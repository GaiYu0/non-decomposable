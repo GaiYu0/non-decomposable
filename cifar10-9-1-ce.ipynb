{
 "cells": [
  {
   "cell_type": "code",
   "execution_count": 1,
   "metadata": {},
   "outputs": [],
   "source": [
    "import argparse\n",
    "import collections\n",
    "import sklearn.metrics as metrics\n",
    "import tensorboardX as tb\n",
    "import torch as th\n",
    "import torch.nn.functional as F\n",
    "import torch.nn.modules.loss as loss\n",
    "import torch.optim as optim\n",
    "import torch.utils as utils\n",
    "import data\n",
    "import my\n",
    "import lenet\n",
    "import resnet"
   ]
  },
  {
   "cell_type": "code",
   "execution_count": 2,
   "metadata": {},
   "outputs": [],
   "source": [
    "args = argparse.Namespace()\n",
    "args.batch_size = 50\n",
    "args.gpu = 1\n",
    "args.log_every = 1000\n",
    "args.n_iterations = 50000\n",
    "\n",
    "keys = sorted(vars(args).keys())\n",
    "excluded = ('gpu', 'log_every', 'n_iterations')\n",
    "run_id = 'cifar10-9-1-ce' + '-'.join('%s-%s' % (key, str(getattr(args, key))) for key in keys if key not in excluded)\n",
    "writer = tb.SummaryWriter('runs/' + run_id)"
   ]
  },
  {
   "cell_type": "code",
   "execution_count": 3,
   "metadata": {},
   "outputs": [],
   "source": [
    "if args.gpu < 0:\n",
    "    cuda = False\n",
    "else:\n",
    "    cuda = True\n",
    "    th.cuda.set_device(args.gpu)\n",
    "\n",
    "labelling = {(0, 9) : 0, (9, 10) : 1}\n",
    "# labelling = {(0, 5) : 0, (5, 6) : 1, (6, 7) : 2, (7, 8) : 3, (8, 9) : 4, (9, 10) : 5}\n",
    "train_x, train_y, test_x, test_y = data.load_cifar10(labelling, rbg=True, torch=True)\n",
    "\n",
    "train_set = utils.data.TensorDataset(train_x, train_y)\n",
    "train_loader = utils.data.DataLoader(train_set, 4096, drop_last=False)\n",
    "test_set = utils.data.TensorDataset(test_x, test_y)\n",
    "test_loader = utils.data.DataLoader(test_set, 4096, drop_last=False)\n",
    "\n",
    "loader = data.BalancedDataLoader(train_x, train_y, args.batch_size, cuda)\n",
    "\n",
    "n_classes = int(train_y.max() - train_y.min() + 1)"
   ]
  },
  {
   "cell_type": "code",
   "execution_count": 4,
   "metadata": {},
   "outputs": [],
   "source": [
    "def global_scores(c, loader, average='binary'):\n",
    "    keys = ('accuracy', 'precision', 'recall', 'f1')\n",
    "    scores = (\n",
    "        metrics.accuracy_score,\n",
    "        lambda y, y_bar: metrics.precision_score(y, y_bar, average=average),\n",
    "        lambda y, y_bar: metrics.recall_score(y, y_bar, average=average),\n",
    "        lambda y, y_bar: metrics.f1_score(y, y_bar, average=average),\n",
    "    )\n",
    "    values = [value.item() for value in my.global_scores(c, loader, scores)]\n",
    "    return collections.OrderedDict(zip(keys, values))"
   ]
  },
  {
   "cell_type": "code",
   "execution_count": 5,
   "metadata": {},
   "outputs": [
    {
     "name": "stdout",
     "output_type": "stream",
     "text": [
      "accuracy 0.9001\n",
      "precision 0.001\n",
      "recall 1.0\n",
      "f1 0.0019980019980019984\n"
     ]
    }
   ],
   "source": [
    "# c = lenet.LeNet(3, n_classes)\n",
    "c = resnet.ResNet(18, n_classes)\n",
    "\n",
    "if cuda:\n",
    "    c.cuda()\n",
    "    \n",
    "# optimizer = optim.SGD(c.parameters(), lr=1e-2, momentum=0.9, weight_decay=1e-4)\n",
    "optimizer = optim.Adam(c.parameters(), amsgrad=True)\n",
    "\n",
    "for key, value in global_scores(c, test_loader).items():\n",
    "    print(key, value)"
   ]
  },
  {
   "cell_type": "code",
   "execution_count": 6,
   "metadata": {
    "scrolled": false
   },
   "outputs": [
    {
     "name": "stdout",
     "output_type": "stream",
     "text": [
      "[iteration 01000]accuracy 0.952/0.948 | precision 0.636/0.615 | recall 0.849/0.820 | f1 0.727/0.703\n",
      "[iteration 02000]accuracy 0.966/0.960 | precision 0.785/0.772 | recall 0.858/0.820 | f1 0.820/0.795\n",
      "[iteration 03000]accuracy 0.968/0.962 | precision 0.777/0.735 | recall 0.890/0.862 | f1 0.830/0.793\n",
      "[iteration 04000]accuracy 0.975/0.965 | precision 0.845/0.785 | recall 0.895/0.849 | f1 0.869/0.816\n",
      "[iteration 05000]accuracy 0.981/0.971 | precision 0.877/0.808 | recall 0.929/0.891 | f1 0.902/0.847\n",
      "[iteration 06000]accuracy 0.985/0.972 | precision 0.894/0.820 | recall 0.949/0.891 | f1 0.920/0.854\n",
      "[iteration 07000]accuracy 0.985/0.971 | precision 0.905/0.815 | recall 0.944/0.889 | f1 0.924/0.850\n",
      "[iteration 08000]accuracy 0.990/0.972 | precision 0.953/0.853 | recall 0.951/0.867 | f1 0.952/0.860\n",
      "[iteration 09000]accuracy 0.991/0.974 | precision 0.954/0.856 | recall 0.956/0.878 | f1 0.955/0.867\n",
      "[iteration 10000]accuracy 0.991/0.972 | precision 0.947/0.833 | recall 0.962/0.881 | f1 0.954/0.857\n",
      "[iteration 11000]accuracy 0.994/0.974 | precision 0.965/0.852 | recall 0.975/0.885 | f1 0.970/0.868\n",
      "[iteration 12000]accuracy 0.992/0.973 | precision 0.947/0.818 | recall 0.977/0.900 | f1 0.962/0.857\n",
      "[iteration 13000]accuracy 0.996/0.975 | precision 0.977/0.851 | recall 0.983/0.891 | f1 0.980/0.871\n",
      "[iteration 14000]accuracy 0.995/0.973 | precision 0.982/0.865 | recall 0.973/0.862 | f1 0.978/0.864\n",
      "[iteration 15000]accuracy 0.996/0.974 | precision 0.981/0.851 | recall 0.978/0.884 | f1 0.979/0.867\n",
      "[iteration 16000]accuracy 0.996/0.973 | precision 0.975/0.822 | recall 0.985/0.895 | f1 0.980/0.857\n",
      "[iteration 17000]accuracy 0.997/0.975 | precision 0.983/0.836 | recall 0.985/0.905 | f1 0.984/0.869\n",
      "[iteration 18000]accuracy 0.998/0.975 | precision 0.983/0.851 | recall 0.993/0.898 | f1 0.988/0.874\n",
      "[iteration 19000]accuracy 0.998/0.975 | precision 0.985/0.834 | recall 0.996/0.910 | f1 0.990/0.871\n",
      "[iteration 20000]accuracy 0.998/0.975 | precision 0.993/0.863 | recall 0.986/0.882 | f1 0.990/0.873\n",
      "[iteration 21000]accuracy 0.998/0.975 | precision 0.995/0.875 | recall 0.986/0.873 | f1 0.990/0.874\n",
      "[iteration 22000]accuracy 0.998/0.976 | precision 0.994/0.872 | recall 0.987/0.883 | f1 0.990/0.877\n",
      "[iteration 23000]accuracy 0.998/0.975 | precision 0.996/0.871 | recall 0.987/0.878 | f1 0.991/0.874\n",
      "[iteration 24000]accuracy 0.999/0.976 | precision 0.990/0.854 | recall 0.997/0.900 | f1 0.994/0.876\n",
      "[iteration 25000]accuracy 0.999/0.973 | precision 0.992/0.841 | recall 0.994/0.887 | f1 0.993/0.863\n",
      "[iteration 26000]accuracy 1.000/0.975 | precision 0.998/0.852 | recall 0.998/0.893 | f1 0.998/0.872\n",
      "[iteration 27000]accuracy 1.000/0.978 | precision 1.000/0.860 | recall 1.000/0.912 | f1 1.000/0.885\n",
      "[iteration 28000]accuracy 1.000/0.976 | precision 0.999/0.844 | recall 1.000/0.909 | f1 0.999/0.875\n",
      "[iteration 29000]accuracy 0.999/0.976 | precision 0.999/0.880 | recall 0.994/0.876 | f1 0.997/0.878\n",
      "[iteration 30000]accuracy 1.000/0.976 | precision 0.999/0.843 | recall 1.000/0.913 | f1 1.000/0.877\n",
      "[iteration 31000]accuracy 0.999/0.974 | precision 0.995/0.830 | recall 0.999/0.905 | f1 0.997/0.866\n",
      "[iteration 32000]accuracy 0.998/0.974 | precision 0.992/0.859 | recall 0.989/0.879 | f1 0.991/0.869\n",
      "[iteration 33000]accuracy 0.999/0.976 | precision 0.995/0.854 | recall 0.998/0.897 | f1 0.996/0.875\n",
      "[iteration 34000]accuracy 0.999/0.975 | precision 0.990/0.822 | recall 0.996/0.916 | f1 0.993/0.867\n",
      "[iteration 35000]accuracy 1.000/0.976 | precision 0.999/0.844 | recall 1.000/0.910 | f1 0.999/0.876\n",
      "[iteration 36000]accuracy 1.000/0.977 | precision 1.000/0.852 | recall 1.000/0.913 | f1 1.000/0.882\n",
      "[iteration 37000]accuracy 1.000/0.977 | precision 1.000/0.870 | recall 0.999/0.892 | f1 1.000/0.881\n",
      "[iteration 38000]accuracy 1.000/0.978 | precision 1.000/0.853 | recall 1.000/0.922 | f1 1.000/0.886\n",
      "[iteration 39000]accuracy 1.000/0.978 | precision 1.000/0.869 | recall 1.000/0.906 | f1 1.000/0.887\n",
      "[iteration 40000]accuracy 1.000/0.978 | precision 1.000/0.860 | recall 1.000/0.918 | f1 1.000/0.888\n",
      "[iteration 41000]accuracy 1.000/0.978 | precision 1.000/0.865 | recall 1.000/0.914 | f1 1.000/0.889\n",
      "[iteration 42000]accuracy 1.000/0.978 | precision 1.000/0.860 | recall 1.000/0.916 | f1 1.000/0.887\n",
      "[iteration 43000]accuracy 1.000/0.978 | precision 1.000/0.860 | recall 1.000/0.918 | f1 1.000/0.888\n",
      "[iteration 44000]accuracy 1.000/0.978 | precision 1.000/0.862 | recall 1.000/0.914 | f1 1.000/0.887\n",
      "[iteration 45000]accuracy 1.000/0.978 | precision 1.000/0.860 | recall 1.000/0.918 | f1 1.000/0.888\n",
      "[iteration 46000]accuracy 1.000/0.978 | precision 1.000/0.857 | recall 1.000/0.918 | f1 1.000/0.886\n",
      "[iteration 47000]accuracy 1.000/0.978 | precision 1.000/0.858 | recall 1.000/0.919 | f1 1.000/0.887\n",
      "[iteration 48000]accuracy 1.000/0.979 | precision 1.000/0.861 | recall 1.000/0.920 | f1 1.000/0.889\n",
      "[iteration 49000]accuracy 1.000/0.978 | precision 1.000/0.862 | recall 1.000/0.913 | f1 1.000/0.887\n",
      "[iteration 50000]accuracy 1.000/0.978 | precision 1.000/0.860 | recall 1.000/0.916 | f1 1.000/0.887\n"
     ]
    }
   ],
   "source": [
    "n_iterations = 0\n",
    "for i in range(args.n_iterations):\n",
    "    x, y = next(loader)\n",
    "    ce = loss.CrossEntropyLoss()(c(x), y)\n",
    "    optimizer.zero_grad()\n",
    "    ce.backward()\n",
    "    optimizer.step()\n",
    "\n",
    "    if (i + 1) % args.log_every == 0:\n",
    "        train_scores = global_scores(c, train_loader)\n",
    "        test_scores = global_scores(c, test_loader)\n",
    "\n",
    "        prefix = '0' * (len(str(args.n_iterations)) - len(str(i + 1)))\n",
    "        print('[iteration %s%d]' % (prefix, i + 1) + \\\n",
    "              ' | '.join('%s %0.3f/%0.3f' % (key, value, test_scores[key]) for key, value in train_scores.items()))\n",
    "\n",
    "        for key, value in train_scores.items():\n",
    "            writer.add_scalar('train-' + key, value, i)\n",
    "\n",
    "        for key, value in test_scores.items():\n",
    "            writer.add_scalar('test-' + key, value, i)"
   ]
  },
  {
   "cell_type": "code",
   "execution_count": 7,
   "metadata": {},
   "outputs": [
    {
     "name": "stdout",
     "output_type": "stream",
     "text": [
      "             precision    recall  f1-score   support\n",
      "\n",
      "          0       1.00      1.00      1.00     45000\n",
      "          1       1.00      1.00      1.00      5000\n",
      "\n",
      "avg / total       1.00      1.00      1.00     50000\n",
      "\n",
      "             precision    recall  f1-score   support\n",
      "\n",
      "          0       0.99      0.98      0.99      9061\n",
      "          1       0.86      0.92      0.89       939\n",
      "\n",
      "avg / total       0.98      0.98      0.98     10000\n",
      "\n"
     ]
    }
   ],
   "source": [
    "print(my.global_scores(c, train_loader, metrics.classification_report))\n",
    "print(my.global_scores(c, test_loader, metrics.classification_report))"
   ]
  }
 ],
 "metadata": {
  "kernelspec": {
   "display_name": "Python 3",
   "language": "python",
   "name": "python3"
  },
  "language_info": {
   "codemirror_mode": {
    "name": "ipython",
    "version": 3
   },
   "file_extension": ".py",
   "mimetype": "text/x-python",
   "name": "python",
   "nbconvert_exporter": "python",
   "pygments_lexer": "ipython3",
   "version": "3.6.4"
  }
 },
 "nbformat": 4,
 "nbformat_minor": 2
}
