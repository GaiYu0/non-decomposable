{
 "cells": [
  {
   "cell_type": "code",
   "execution_count": 1,
   "metadata": {},
   "outputs": [],
   "source": [
    "import copy\n",
    "import collections\n",
    "import math\n",
    "import time\n",
    "import numpy as np\n",
    "import torch as th\n",
    "import torch.nn as nn\n",
    "import torch.nn.functional as F\n",
    "from torch.optim import Adam\n",
    "from torch.utils.data import DataLoader, TensorDataset\n",
    "import my\n",
    "import lenet\n",
    "import resnet"
   ]
  },
  {
   "cell_type": "code",
   "execution_count": 2,
   "metadata": {},
   "outputs": [],
   "source": [
    "class Args:\n",
    "    pass\n",
    "args = Args()\n",
    "\n",
    "args.n_iterations_critic = 100\n",
    "args.iw = 'quadratic' # None/linear/quadratic\n",
    "args.gpu = 0\n",
    "args.n_iterations = 10\n",
    "args.n_perturbations = 25\n",
    "args.batch_size = 50\n",
    "args.std = 1e-1\n",
    "args.tau = 1e-1\n",
    "\n",
    "verbose = None"
   ]
  },
  {
   "cell_type": "code",
   "execution_count": 3,
   "metadata": {},
   "outputs": [],
   "source": [
    "cuda = args.gpu >= 0\n",
    "if cuda:\n",
    "    th.cuda.set_device(args.gpu)\n",
    "\n",
    "th.random.manual_seed(1)\n",
    "if cuda:\n",
    "    th.cuda.manual_seed_all(1)\n",
    "\n",
    "train_x, train_y, test_x, test_y = my.load_cifar10(rbg=True, torch=True)\n",
    "# train_x, train_y, test_x, test_y = my.load_cifar10(rbg=False, torch=True)\n",
    "\n",
    "test_loader = DataLoader(TensorDataset(test_x, test_y), 4096, drop_last=False)\n",
    "\n",
    "n_classes = int(train_y.max() - train_y.min() + 1)"
   ]
  },
  {
   "cell_type": "code",
   "execution_count": 4,
   "metadata": {},
   "outputs": [],
   "source": [
    "def TrainLoader():\n",
    "    train_loader = iter(DataLoader(TensorDataset(train_x, train_y), args.batch_size, shuffle=True))\n",
    "    contextualize = lambda x, y: (x.cuda(), y.cuda()) if cuda else (x, y)\n",
    "    while True:\n",
    "        try:\n",
    "            yield contextualize(*next(train_loader))\n",
    "        except StopIteration:\n",
    "            train_loader = iter(DataLoader(TensorDataset(train_x, train_y), args.batch_size, shuffle=True))\n",
    "            yield contextualize(*next(train_loader))\n",
    "\n",
    "train_loader = TrainLoader()\n",
    "\n",
    "def forward(c, xy):\n",
    "    x, y = xy\n",
    "    y = my.onehot(y, n_classes)\n",
    "    y_bar = F.softmax(c(x), 1)\n",
    "    return th.cat((y, y_bar), 1).view(1, -1)\n",
    "\n",
    "def L_mini_batch(c, xy):\n",
    "    x, y = xy\n",
    "    return my.nd_f_beta(th.max(c(x), 1)[1], y, n_classes).view(1, 1)\n",
    "\n",
    "def global_stats(c, loader):\n",
    "    curry = lambda stat: lambda y_bar, y: stat(y_bar, y, n_classes)\n",
    "    stats = (my.accuracy,) + tuple(map(curry, (my.nd_precision, my.nd_recall, my.nd_f_beta)))\n",
    "    keys = ('accuracy', 'precision', 'recall', 'f1')\n",
    "    values = [value.item() for value in my.global_stats(c, loader, stats)]\n",
    "    return collections.OrderedDict(zip(keys, values))"
   ]
  },
  {
   "cell_type": "code",
   "execution_count": 5,
   "metadata": {},
   "outputs": [
    {
     "name": "stdout",
     "output_type": "stream",
     "text": [
      "accuracy 0.09609999507665634\n",
      "precision 0.03016090951859951\n",
      "recall 0.09610000252723694\n",
      "f1 0.04590865224599838\n"
     ]
    }
   ],
   "source": [
    "# c = my.MLP((3072, n_classes), F.relu)\n",
    "# c = my.MLP((3072,) + (1024,) + (n_classes,), F.relu)\n",
    "# c = my.MLP((3072,) + (1024,) * 2 + (n_classes,), F.relu)\n",
    "# c = my.MLP((3072,) + (1024,) * 3 + (n_classes,), F.relu)\n",
    "c = lenet.LeNet(3, n_classes)\n",
    "# c = resnet.ResNet(depth=18, n_classes=n_classes)\n",
    "\n",
    "critic = my.RN(args.batch_size, 2 * n_classes, tuple(), (4 * n_classes, 64, 256), (256, 64) + (1,), F.relu, triu=True)\n",
    "\n",
    "if cuda:\n",
    "    c.cuda()\n",
    "    critic.cuda()\n",
    "\n",
    "c_optim = Adam(c.parameters(), eps=1e-3)\n",
    "critic_optim = Adam(critic.parameters())\n",
    "\n",
    "for key, value in global_stats(c, test_loader).items():\n",
    "    print(key, value)"
   ]
  },
  {
   "cell_type": "code",
   "execution_count": 6,
   "metadata": {},
   "outputs": [
    {
     "name": "stdout",
     "output_type": "stream",
     "text": [
      "[iteration 1]f1: 0.049297\n",
      "[iteration 2]f1: 0.048478\n",
      "[iteration 3]f1: 0.048642\n",
      "[iteration 4]f1: 0.050654\n",
      "[iteration 5]f1: 0.053500\n",
      "[iteration 6]f1: 0.062709\n",
      "[iteration 7]f1: 0.067674\n",
      "[iteration 8]f1: 0.067783\n",
      "[iteration 9]f1: 0.068769\n",
      "[iteration 10]f1: 0.065201\n"
     ]
    }
   ],
   "source": [
    "hist = []\n",
    "phi = (lambda x: x) if args.iw == 'linear' else lambda x: x ** 2 if args.iw == 'quadratic' else lambda _: 0\n",
    "\n",
    "for i in range(args.n_iterations):\n",
    "    hist.append({})\n",
    "#     hist[-1]['critic_state_dict'] = copy.deepcopy(my.state_dict_gpu2cpu(critic.state_dict()))        \n",
    "#     hist[-1]['critic_optim_state_dict'] = my.optim_state_dict_gpu2cpu(critic_optim.state_dict())\n",
    "#     hist[-1]['c_state_dict'] = copy.deepcopy(my.state_dict_gpu2cpu(c.state_dict()))\n",
    "#     hist[-1]['c_optim_state_dict'] = my.optim_state_dict_gpu2cpu(c_optim.state_dict())\n",
    "\n",
    "    if verbose == 0:\n",
    "        t0 = time.time()\n",
    "\n",
    "    mini_batch = next(train_loader)\n",
    "    L_c = L_mini_batch(c, mini_batch)\n",
    "    c_bar_list = []\n",
    "    L_bar_list = []\n",
    "    t_list = []\n",
    "    for j in range(args.n_perturbations):\n",
    "        c_bar_list.append(my.perturb(c, args.std))\n",
    "        L_bar = L_mini_batch(c_bar_list[-1], mini_batch)\n",
    "        L_bar_list.append(L_bar)\n",
    "        t_list.append(L_c - L_bar)\n",
    "    w_list = th.cat([th.exp(phi(t) / args.tau) for t in t_list], 1)\n",
    "    w_list = th.chunk((w_list / th.sum(w_list, 1, keepdim=True)).detach(), args.n_perturbations, 1)\n",
    "\n",
    "    hist[-1]['L_bar_tensor'] = th.cat(L_bar_list, 0)\n",
    "    hist[-1]['w_tensor'] = th.cat(w_list, 0)\n",
    "\n",
    "    if verbose == 0:\n",
    "        t1 = time.time()\n",
    "        print('[iteration %d]t1 - t0: %f' % (i + 1, t1 - t0))\n",
    "            \n",
    "    y = forward(c, mini_batch).detach()\n",
    "    y_bar_list = [forward(c_bar, mini_batch).detach() for c_bar in c_bar_list]\n",
    "    for j in range(args.n_iterations_critic):\n",
    "        for y_bar, t, w in zip(y_bar_list, t_list, w_list):\n",
    "            delta = critic(y) - critic(y_bar)\n",
    "            mse = th.sum(w * (t - delta) ** 2)\n",
    "            critic_optim.zero_grad()\n",
    "            mse.backward()\n",
    "            critic_optim.step()\n",
    "#     assert not my.module_isnan(critic)\n",
    "\n",
    "    if verbose == 0:\n",
    "        t2 = time.time()\n",
    "        print('[iteration %d]t2 - t1: %f' % (i + 1, t2 - t1))\n",
    "\n",
    "    y_bar = forward(c, mini_batch)\n",
    "    objective = -th.mean(critic(y_bar))\n",
    "    c_optim.zero_grad()\n",
    "    objective.backward()\n",
    "    c_optim.step()\n",
    "#     assert not my.module_isnan(c)\n",
    "\n",
    "    if verbose == 0:\n",
    "        t3 = time.time()\n",
    "        print('[iteration %d]t3 - t2: %f' % (i + 1, t3 - t2))\n",
    "\n",
    "    hist[-1]['stats'] = global_stats(c, test_loader)\n",
    "    \n",
    "    if (i + 1) % 1 == 0:\n",
    "        print('[iteration %d]f1: %f' % (i + 1, hist[-1]['stats']['f1']))"
   ]
  },
  {
   "cell_type": "code",
   "execution_count": 8,
   "metadata": {},
   "outputs": [],
   "source": [
    "import pickle\n",
    "fields = [f for f in dir(args) if '__' not in f]\n",
    "values = [getattr(args, f) for f in fields]\n",
    "path = 'hist/' + '-'.join('%s-%s' % (f, v) for f, v in zip(fields, values))\n",
    "pickle.dump(hist, open(path, 'wb'))"
   ]
  }
 ],
 "metadata": {
  "kernelspec": {
   "display_name": "Python 3",
   "language": "python",
   "name": "python3"
  },
  "language_info": {
   "codemirror_mode": {
    "name": "ipython",
    "version": 3
   },
   "file_extension": ".py",
   "mimetype": "text/x-python",
   "name": "python",
   "nbconvert_exporter": "python",
   "pygments_lexer": "ipython3",
   "version": "3.6.4"
  }
 },
 "nbformat": 4,
 "nbformat_minor": 2
}
