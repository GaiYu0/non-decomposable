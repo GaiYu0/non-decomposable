{
 "cells": [
  {
   "cell_type": "code",
   "execution_count": null,
   "metadata": {},
   "outputs": [],
   "source": [
    "import torch as th\n",
    "from torch.autograd import Variable\n",
    "import torch.nn as nn\n",
    "import torch.nn.functional as F\n",
    "from torch.nn.modules.loss import CrossEntropyLoss\n",
    "from torch.optim import Adam\n",
    "from torch.utils.data import DataLoader, TensorDataset\n",
    "import my"
   ]
  },
  {
   "cell_type": "code",
   "execution_count": null,
   "metadata": {},
   "outputs": [],
   "source": [
    "N_TRAIN, N_TEST = 0, 0\n",
    "BATCH_SIZE = 64\n",
    "cuda = True\n",
    "\n",
    "# train_data, train_labels, test_data, test_labels = my.unbalanced_cifar10(N_TRAIN, N_TEST, p=[0, 1, 10])\n",
    "train_data, train_labels, test_data, test_labels = my.unbalanced_cifar10(N_TRAIN, N_TEST, p=[])\n",
    "\n",
    "train_data_np, train_labels_np, test_data_np, test_labels_np = \\\n",
    "    train_data, train_labels, test_data, test_labels\n",
    "    \n",
    "train_data = th.from_numpy(train_data).float()\n",
    "train_labels = th.from_numpy(train_labels).long()\n",
    "test_data = th.from_numpy(test_data).float()\n",
    "test_labels = th.from_numpy(test_labels).long()\n",
    "\n",
    "if cuda:\n",
    "    th.cuda.set_device(3)\n",
    "\n",
    "train_loader = DataLoader(TensorDataset(train_data, train_labels), BATCH_SIZE, shuffle=True)\n",
    "test_loader = DataLoader(TensorDataset(test_data, test_labels), BATCH_SIZE)\n",
    "\n",
    "N_FEATURES = train_data.size()[1]\n",
    "N_CLASSES = int(train_labels.max() - train_labels.min() + 1)"
   ]
  },
  {
   "cell_type": "code",
   "execution_count": null,
   "metadata": {
    "collapsed": true
   },
   "outputs": [],
   "source": [
    "class CNN(nn.Module):\n",
    "    def __init__(self, n_classes):\n",
    "        super(CNN, self).__init__()\n",
    "        self.conv1 = nn.Conv2d(3, 16, 3, 2, 1)\n",
    "        self.conv2 = nn.Conv2d(16, 8, 3, 2, 1)\n",
    "        self.linear = nn.Linear(8, n_classes)\n",
    "    \n",
    "    def forward(self, x):\n",
    "        if x.dim() != 4:\n",
    "            x = x.view(-1, 3, 32, 32)\n",
    "        x = F.tanh(self.conv1(x))\n",
    "        x = F.tanh(self.conv2(x))\n",
    "        x = F.avg_pool2d(x, 8)\n",
    "        x = self.linear(x.view(-1, 8))\n",
    "        return x"
   ]
  },
  {
   "cell_type": "code",
   "execution_count": null,
   "metadata": {},
   "outputs": [],
   "source": [
    "c_pretrained = CNN(N_CLASSES)\n",
    "if cuda:\n",
    "    c_pretrained.cuda()\n",
    "optim = Adam(c_pretrained.parameters(), lr=0.001)\n",
    "EPOCHS = 50\n",
    "for i in range(EPOCHS):\n",
    "    for x, y in train_loader:\n",
    "        if cuda:\n",
    "            x, y = x.cuda(), y.cuda()\n",
    "        x, y = Variable(x), Variable(y)\n",
    "        loss = CrossEntropyLoss()(c_pretrained(x), y)\n",
    "        optim.zero_grad()\n",
    "        loss.backward()\n",
    "        optim.step()\n",
    "    accuracy = my.global_stats(c_pretrained, test_loader, my.accuracy)\n",
    "    if (i + 1) % 5 == 0:\n",
    "        print('[epoch %d]cross-entropy loss: %f, accuracy: %f' % ((i + 1), float(loss), float(accuracy)))"
   ]
  },
  {
   "cell_type": "code",
   "execution_count": null,
   "metadata": {},
   "outputs": [],
   "source": [
    "f1 = my.global_stats(c_pretrained, test_loader, my.nd_curry(my.nd_f_beta, N_CLASSES))\n",
    "float(f1)"
   ]
  },
  {
   "cell_type": "code",
   "execution_count": null,
   "metadata": {},
   "outputs": [],
   "source": [
    "c = CNN(N_CLASSES)\n",
    "if cuda:\n",
    "    c.cuda()\n",
    "c.load_state_dict(c_pretrained.state_dict())\n",
    "c_optim = Adam(c.parameters(), 0.01)\n",
    "sample_loader = DataLoader(TensorDataset(train_data, train_labels), 4096, shuffle=True)"
   ]
  },
  {
   "cell_type": "code",
   "execution_count": null,
   "metadata": {
    "collapsed": true
   },
   "outputs": [],
   "source": [
    "def perturb_y(y, std):\n",
    "    randn = Variable(th.randn(y_bar.size()) * std)\n",
    "    randn = randn.cuda() if cuda else randn\n",
    "    return th.clamp(y + randn, 0, 1)\n",
    "\n",
    "def fst(loader):\n",
    "    for x, y in loader:\n",
    "        break\n",
    "    return x, y"
   ]
  },
  {
   "cell_type": "code",
   "execution_count": null,
   "metadata": {},
   "outputs": [],
   "source": [
    "std = 1e-1\n",
    "\n",
    "x, y = fst(sample_loader)\n",
    "if cuda:\n",
    "    x, y = x.cuda(), y.cuda()\n",
    "x, y = Variable(x), Variable(y)\n",
    "y_bar = F.softmax(c(x), 1)\n",
    "f1_bar = my.nd_f_beta(th.max(y_bar, 1)[1], y, N_CLASSES)\n",
    "\n",
    "stats = []\n",
    "for i in range(5000):\n",
    "    y_per = perturb_y(y_bar, std).detach()\n",
    "    f1_per = my.nd_f_beta(th.max(y_per, 1)[1], y, N_CLASSES)\n",
    "    stats.append((float(f1_per), y_per))"
   ]
  },
  {
   "cell_type": "code",
   "execution_count": null,
   "metadata": {},
   "outputs": [],
   "source": [
    "s = sorted(stats, key=lambda x: x[0], reverse=True)\n",
    "s[0][0]"
   ]
  },
  {
   "cell_type": "code",
   "execution_count": null,
   "metadata": {},
   "outputs": [],
   "source": [
    "N_ITERATIONS = 1000\n",
    "for i in range(N_ITERATIONS):\n",
    "    mse = th.mean((c(x) - s[0][1]) ** 2)\n",
    "    c_optim.zero_grad()\n",
    "    mse.backward()\n",
    "    c_optim.step()\n",
    "    if (i + 1) % 1000 == 0:\n",
    "        print('[iteration %d]mse: %f' % (i + 1, float(mse)))"
   ]
  },
  {
   "cell_type": "code",
   "execution_count": null,
   "metadata": {},
   "outputs": [],
   "source": [
    "f1_c_pre_x = my.nd_f_beta(th.max(c_pretrained(x), 1)[1], y, N_CLASSES)\n",
    "f1_c_x = my.nd_f_beta(th.max(c(x), 1)[1], y, N_CLASSES)\n",
    "f1_c = my.global_stats(c, test_loader, my.nd_curry(my.nd_f_beta, N_CLASSES))\n",
    "float(f1_c_pre_x), float(f1_c_x), float(f1_c)"
   ]
  },
  {
   "cell_type": "code",
   "execution_count": null,
   "metadata": {},
   "outputs": [],
   "source": [
    "stats = []\n",
    "for x, y in sample_loader:\n",
    "    if cuda:\n",
    "        x, y = x.cuda(), y.cuda()\n",
    "    x, y = Variable(x), Variable(y)\n",
    "    f1 = my.nd_f_beta(th.max(c(x), 1)[1], y, N_CLASSES)\n",
    "    stats.append(float(f1))"
   ]
  },
  {
   "cell_type": "code",
   "execution_count": null,
   "metadata": {},
   "outputs": [],
   "source": [
    "import matplotlib.pylab as pl\n",
    "%matplotlib inline\n",
    "pl.hist(stats)"
   ]
  }
 ],
 "metadata": {
  "kernelspec": {
   "display_name": "Python 3",
   "language": "python",
   "name": "python3"
  },
  "language_info": {
   "codemirror_mode": {
    "name": "ipython",
    "version": 3
   },
   "file_extension": ".py",
   "mimetype": "text/x-python",
   "name": "python",
   "nbconvert_exporter": "python",
   "pygments_lexer": "ipython3",
   "version": "3.6.3"
  }
 },
 "nbformat": 4,
 "nbformat_minor": 2
}
