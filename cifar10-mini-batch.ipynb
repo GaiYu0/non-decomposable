{
 "cells": [
  {
   "cell_type": "code",
   "execution_count": 1,
   "metadata": {
    "collapsed": true
   },
   "outputs": [],
   "source": [
    "from __future__ import print_function\n",
    "import copy\n",
    "from threading import Condition, Thread\n",
    "import numpy as np\n",
    "import numpy.random as npr\n",
    "import torch as th\n",
    "import torch.nn as nn\n",
    "from torch.autograd import Variable\n",
    "from torch.nn.modules.loss import CrossEntropyLoss, MSELoss\n",
    "import torch.nn.functional as F\n",
    "from torch.optim import SGD, Adam\n",
    "from torch.utils.data import DataLoader, TensorDataset\n",
    "import my"
   ]
  },
  {
   "cell_type": "code",
   "execution_count": 2,
   "metadata": {
    "collapsed": true
   },
   "outputs": [],
   "source": [
    "import matplotlib.pylab as pl\n",
    "%matplotlib inline"
   ]
  },
  {
   "cell_type": "code",
   "execution_count": 3,
   "metadata": {},
   "outputs": [],
   "source": [
    "N_TRAIN, N_TEST = 0, 0\n",
    "train_data, train_labels, test_data, test_labels = my.unbalanced_cifar10(N_TRAIN, N_TEST, p=[])\n",
    "\n",
    "train_data_np, train_labels_np, test_data_np, test_labels_np = \\\n",
    "    train_data, train_labels, test_data, test_labels\n",
    "    \n",
    "train_data = th.from_numpy(train_data).float()\n",
    "train_labels = th.from_numpy(train_labels).long()\n",
    "test_data = th.from_numpy(test_data).float()\n",
    "test_labels = th.from_numpy(test_labels).long()\n",
    "\n",
    "cuda = True\n",
    "if cuda:\n",
    "    th.cuda.set_device(3)\n",
    "\n",
    "N_FEATURES = train_data.size()[1]\n",
    "N_CLASSES = int(train_labels.max() - train_labels.min() + 1)"
   ]
  },
  {
   "cell_type": "code",
   "execution_count": 4,
   "metadata": {
    "collapsed": true
   },
   "outputs": [],
   "source": [
    "class CNN(nn.Module):\n",
    "    def __init__(self, n_classes):\n",
    "        super(CNN, self).__init__()\n",
    "        self.conv1 = nn.Conv2d(3, 16, 3, 2, 1)\n",
    "        self.conv2 = nn.Conv2d(16, 8, 3, 2, 1)\n",
    "        self.linear = nn.Linear(8, n_classes)\n",
    "    \n",
    "    def forward(self, x):\n",
    "        if x.dim() != 4:\n",
    "            x = x.view(-1, 3, 32, 32)\n",
    "        x = F.tanh(self.conv1(x))\n",
    "        x = F.tanh(self.conv2(x))\n",
    "        x = F.avg_pool2d(x, 8)\n",
    "        x = self.linear(x.view(-1, 8))\n",
    "        return x"
   ]
  },
  {
   "cell_type": "code",
   "execution_count": 5,
   "metadata": {
    "collapsed": true
   },
   "outputs": [],
   "source": [
    "SAMPLE_SIZE = 64\n",
    "\n",
    "th.random.manual_seed(1)\n",
    "th.cuda.manual_seed_all(1)\n",
    "\n",
    "for x, y in DataLoader(TensorDataset(train_data, train_labels), SAMPLE_SIZE, shuffle=True):\n",
    "    if cuda:\n",
    "        x, y = x.cuda(), y.cuda()\n",
    "    x, y = Variable(x), Variable(y)\n",
    "    break\n",
    "\n",
    "L = lambda c: my.nd_f_beta(my.predict(c, x), y, N_CLASSES)\n",
    "\n",
    "def forward(classifier):\n",
    "    z = my.onehot(y, N_CLASSES)\n",
    "    z_bar = F.softmax(classifier(x), 1)\n",
    "    return th.cat((z, z_bar), 1).view(1, -1)\n",
    "\n",
    "# def intrinsic_mse(critic):\n",
    "#     z = my.onehot(y, N_CLASSES)\n",
    "#     return (1 - critic(th.cat((z, z), 1).view(1, -1))) ** 2\n",
    "\n",
    "state_dict_cpu2gpu = lambda state_dict: {key : value.cuda() for key, value in state_dict.items()}\n",
    "state_dict_gpu2cpu = lambda state_dict: {key : value.cpu() for key, value in state_dict.items()}"
   ]
  },
  {
   "cell_type": "code",
   "execution_count": 10,
   "metadata": {},
   "outputs": [
    {
     "data": {
      "text/plain": [
       "0.019716529175639153"
      ]
     },
     "execution_count": 10,
     "metadata": {},
     "output_type": "execute_result"
    }
   ],
   "source": [
    "th.random.manual_seed(1)\n",
    "th.cuda.manual_seed_all(1)\n",
    "\n",
    "# c = nn.Linear(N_FEATURES, N_CLASSES)\n",
    "# c = my.MLP((N_FEATURES,) + (512,) * 1 + (N_CLASSES,), F.relu)\n",
    "c = CNN(N_CLASSES)\n",
    "critic = my.RN(SAMPLE_SIZE, 2 * N_CLASSES, (1024,) * 3 + (1,), F.relu)\n",
    "\n",
    "if cuda:\n",
    "    c.cuda()\n",
    "    critic.cuda()\n",
    "\n",
    "# c_optim = SGD(c.parameters(), 0.1, momentum=0.5)\n",
    "# critic_optim = SGD(critic.parameters(), 0.1, momentum=0.5)\n",
    "c_optim = Adam(c.parameters(), 1e-3)\n",
    "critic_optim = Adam(critic.parameters(), 1e-3)\n",
    "\n",
    "float(L(c))"
   ]
  },
  {
   "cell_type": "code",
   "execution_count": null,
   "metadata": {},
   "outputs": [
    {
     "name": "stdout",
     "output_type": "stream",
     "text": [
      "[iteration 1]f1: 0.064086\n",
      "[iteration 2]f1: 0.040906\n",
      "[iteration 3]f1: 0.053655\n",
      "[iteration 4]f1: 0.057710\n",
      "[iteration 5]f1: 0.056277\n",
      "[iteration 6]f1: 0.055719\n",
      "[iteration 7]f1: 0.061244\n",
      "[iteration 8]f1: 0.105319\n",
      "[iteration 9]f1: 0.080248\n",
      "[iteration 10]f1: 0.085937\n",
      "[iteration 11]f1: 0.104718\n",
      "[iteration 12]f1: 0.118358\n",
      "[iteration 13]f1: 0.258465\n",
      "[iteration 14]f1: 0.263717\n",
      "[iteration 15]f1: 0.161076\n",
      "[iteration 16]f1: 0.143018\n",
      "[iteration 17]f1: 0.143018\n",
      "[iteration 18]f1: 0.156580\n"
     ]
    }
   ],
   "source": [
    "std = 1e-1\n",
    "tau = 1e-2\n",
    "\n",
    "N_ITERATIONS = 500\n",
    "N_PERTURBATIONS = 50\n",
    "CRITIC_ITERATIONS = 10\n",
    "ACTOR_ITERATIONS = 5\n",
    "\n",
    "hist = []\n",
    "for i in range(N_ITERATIONS):\n",
    "    hist.append({})\n",
    "    hist[-1]['c_state_dict'] = copy.deepcopy(state_dict_gpu2cpu(c.state_dict()))\n",
    "    \n",
    "    c.eval()\n",
    "    critic.train()\n",
    "    L_c = L(c)\n",
    "    c_bar_list, t_list = [], []\n",
    "    f1_list = []\n",
    "    for j in range(N_PERTURBATIONS):\n",
    "        c_bar_list.append(my.perturb(c, std))\n",
    "        L_bar = L(c_bar_list[-1])\n",
    "        f1_list.append(float(L_bar))\n",
    "        t = L_c - L_bar\n",
    "        t_list.append(t[0])\n",
    "    hist[-1]['f1_list'] = f1_list\n",
    "    \n",
    "#     print(min(map(float, t_list)), max(map(float, t_list)))\n",
    "    \n",
    "    w_list = [th.exp(-t ** 2 / tau) for t in t_list] # TODO proposal distribution\n",
    "    z = sum(w_list)\n",
    "    w_list = [(w / z).detach() for w in w_list]\n",
    "    hist[-1]['w_list'] = w_list\n",
    "    \n",
    "    z = forward(c).detach()\n",
    "    for j in range(CRITIC_ITERATIONS):\n",
    "#         critic_optim.zero_grad()\n",
    "#         intrinsic_mse(critic).backward()\n",
    "#         critic_optim.step()\n",
    "        for c_bar, t, w in zip(c_bar_list, t_list, w_list):\n",
    "            z_bar = forward(c_bar).detach()\n",
    "            delta = th.mean(critic(z) - critic(z_bar), 0)\n",
    "            mse = w * MSELoss()(delta, t)\n",
    "            critic_optim.zero_grad()\n",
    "            mse.backward()\n",
    "            critic_optim.step()\n",
    "    hist[-1]['critic_state_dict'] = copy.deepcopy(state_dict_gpu2cpu(critic.state_dict()))\n",
    "\n",
    "    c.train()\n",
    "    critic.eval()\n",
    "    c_parameters = copy.deepcopy(tuple(c.parameters()))\n",
    "    for j in range(ACTOR_ITERATIONS):\n",
    "        z = forward(c)\n",
    "        objective = -th.mean(critic(z)) # TODO remove th.mean\n",
    "        c_optim.zero_grad()\n",
    "        objective.backward()\n",
    "        c_optim.step()\n",
    "        if any(float(th.max(th.abs(p - q))) > std for p, q in zip(c_parameters, c.parameters())):\n",
    "            break\n",
    "\n",
    "    hist[-1]['f1'] = float(L(c))\n",
    "    \n",
    "    if (i + 1) % 1 == 0:\n",
    "        print('[iteration %d]f1: %f' % (i + 1, hist[-1]['f1']))"
   ]
  },
  {
   "cell_type": "code",
   "execution_count": null,
   "metadata": {
    "collapsed": true
   },
   "outputs": [],
   "source": [
    "# h = hist[-1]\n",
    "# c, c_bar = CNN(N_CLASSES), CNN(N_CLASSES)\n",
    "# c.load_state_dict(state_dict_cpu2gpu(h['c_state_dict']))\n",
    "# c_bar.load_state_dict(h['c_state_dict'])\n",
    "# critic = my.RN(SAMPLE_SIZE, 2 * N_CLASSES, (1024,) * 3 + (1,), F.relu)\n",
    "# critic.load_state_dict(state_dict_cpu2gpu(h['critic_state_dict']))\n",
    "# if cuda:\n",
    "#     c.cuda()\n",
    "#     c_bar.cuda()\n",
    "#     critic.cuda()\n",
    "\n",
    "# critic.eval()\n",
    "\n",
    "# # TODO gradient in parameter space/simplex\n",
    "# objective = -th.mean(critic(forward(c)))\n",
    "# objective.backward()\n",
    "\n",
    "# alpha = np.linspace(0, 10)\n",
    "# f1_list = []\n",
    "# critic_list = []\n",
    "# for a in alpha:\n",
    "#     for p, p_bar in zip(c.parameters(), c_bar.parameters()):\n",
    "#         p_bar.data = p.data - float(a) * p.grad.data\n",
    "#     f1_list.append(float(L(c_bar)))\n",
    "#     critic_list.append(float(critic(forward(c_bar))))\n",
    "\n",
    "# pl.figure()\n",
    "# pl.plot(alpha, f1_list)\n",
    "# pl.figure()\n",
    "# pl.plot(alpha, critic_list)"
   ]
  },
  {
   "cell_type": "code",
   "execution_count": null,
   "metadata": {
    "collapsed": true
   },
   "outputs": [],
   "source": [
    "f1_list = [np.array(list(map(float, h['f1_list']))) for h in hist]\n",
    "min_list = tuple(map(np.min, f1_list))\n",
    "max_list = tuple(map(np.max, f1_list))\n",
    "std_list = tuple(map(np.std, f1_list))\n",
    "pl.plot(range(len(f1_list)), min_list, label='min sample')\n",
    "pl.plot(range(len(f1_list)), max_list, label='max sample')\n",
    "pl.plot(range(len(hist)), [h['f1'] for h in hist], label='classifier')\n",
    "pl.title('f1')\n",
    "pl.legend(framealpha=0)\n",
    "pl.figure()\n",
    "pl.title('std')\n",
    "pl.plot(range(len(f1_list)), std_list)"
   ]
  },
  {
   "cell_type": "code",
   "execution_count": null,
   "metadata": {
    "collapsed": true
   },
   "outputs": [],
   "source": [
    "entropy_list = []\n",
    "for h in hist:\n",
    "    w_array = np.array(list(map(float, h['w_list'])))\n",
    "    entropy_list.append(-np.sum(w_array * np.log(w_array)))\n",
    "n = len(hist)\n",
    "pl.plot(range(n), entropy_list, label='importance distribution')\n",
    "pl.plot(range(n), -np.ones(n) * np.log(1 / N_PERTURBATIONS), label='uniform distribution')\n",
    "pl.title('entropy')\n",
    "pl.legend(framealpha=0)"
   ]
  },
  {
   "cell_type": "code",
   "execution_count": null,
   "metadata": {
    "collapsed": true
   },
   "outputs": [],
   "source": [
    "w_list = [np.array(list(map(float, h['w_list']))) for h in hist]\n",
    "min_list = tuple(map(np.min, w_list))\n",
    "max_list = tuple(map(np.max, w_list))\n",
    "std_list = tuple(map(np.std, w_list))\n",
    "pl.plot(range(len(w_list)), min_list, label='min')\n",
    "pl.plot(range(len(w_list)), max_list, label='max')\n",
    "pl.title('importance weight')\n",
    "pl.legend(framealpha=0)\n",
    "pl.figure()\n",
    "pl.title('importance weight')\n",
    "pl.plot(range(len(w_list)), std_list, label='std')\n",
    "pl.legend(framealpha=0)"
   ]
  }
 ],
 "metadata": {
  "kernelspec": {
   "display_name": "Python 3",
   "language": "python",
   "name": "python3"
  },
  "language_info": {
   "codemirror_mode": {
    "name": "ipython",
    "version": 3
   },
   "file_extension": ".py",
   "mimetype": "text/x-python",
   "name": "python",
   "nbconvert_exporter": "python",
   "pygments_lexer": "ipython3",
   "version": "3.6.3"
  }
 },
 "nbformat": 4,
 "nbformat_minor": 2
}
