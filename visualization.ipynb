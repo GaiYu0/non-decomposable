{
 "cells": [
  {
   "cell_type": "code",
   "execution_count": null,
   "metadata": {},
   "outputs": [],
   "source": [
    "import pickle\n",
    "import matplotlib.pylab as pl\n",
    "%matplotlib inline\n",
    "import numpy as np"
   ]
  },
  {
   "cell_type": "code",
   "execution_count": null,
   "metadata": {},
   "outputs": [],
   "source": [
    "hist = pickle.load(open('cifar10-hist', 'rb'))"
   ]
  },
  {
   "cell_type": "code",
   "execution_count": null,
   "metadata": {},
   "outputs": [],
   "source": [
    "f1_list = [np.array(list(map(float, h['f1_list']))) for h in hist]\n",
    "min_list = tuple(map(np.min, f1_list))\n",
    "max_list = tuple(map(np.max, f1_list))\n",
    "std_list = tuple(map(np.std, f1_list))\n",
    "pl.plot(range(len(f1_list)), min_list, label='min sample')\n",
    "pl.plot(range(len(f1_list)), max_list, label='max sample')\n",
    "pl.plot(range(len(hist)), [h['f1'] for h in hist], label='classifier')\n",
    "pl.title('f1')\n",
    "pl.legend(framealpha=0)\n",
    "pl.figure()\n",
    "pl.title('std')\n",
    "pl.plot(range(len(f1_list)), std_list)"
   ]
  },
  {
   "cell_type": "code",
   "execution_count": null,
   "metadata": {},
   "outputs": [],
   "source": [
    "entropy_list = []\n",
    "for h in hist:\n",
    "    w_array = np.array(list(map(float, h['w_list'])))\n",
    "    entropy_list.append(-np.sum(w_array * np.log(w_array)))\n",
    "n = len(hist)\n",
    "pl.plot(range(n), entropy_list, label='importance distribution')\n",
    "pl.plot(range(n), -np.ones(n) * np.log(1 / len(hist[0]['w_list'])), label='uniform distribution')\n",
    "pl.title('entropy')\n",
    "pl.legend(framealpha=0)"
   ]
  },
  {
   "cell_type": "code",
   "execution_count": null,
   "metadata": {},
   "outputs": [],
   "source": [
    "w_list = [np.array(list(map(float, h['w_list']))) for h in hist]\n",
    "min_list = tuple(map(np.min, w_list))\n",
    "max_list = tuple(map(np.max, w_list))\n",
    "std_list = tuple(map(np.std, w_list))\n",
    "pl.plot(range(len(w_list)), min_list, label='min')\n",
    "pl.plot(range(len(w_list)), max_list, label='max')\n",
    "pl.title('importance weight')\n",
    "pl.legend(framealpha=0)\n",
    "pl.figure()\n",
    "pl.title('importance weight')\n",
    "pl.plot(range(len(w_list)), std_list, label='std')\n",
    "pl.legend(framealpha=0)"
   ]
  }
 ],
 "metadata": {
  "kernelspec": {
   "display_name": "Python 3",
   "language": "python",
   "name": "python3"
  },
  "language_info": {
   "codemirror_mode": {
    "name": "ipython",
    "version": 3
   },
   "file_extension": ".py",
   "mimetype": "text/x-python",
   "name": "python",
   "nbconvert_exporter": "python",
   "pygments_lexer": "ipython3",
   "version": "3.6.4"
  }
 },
 "nbformat": 4,
 "nbformat_minor": 2
}
